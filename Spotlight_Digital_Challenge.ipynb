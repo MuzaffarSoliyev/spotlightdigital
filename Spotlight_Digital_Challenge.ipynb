{
  "nbformat": 4,
  "nbformat_minor": 0,
  "metadata": {
    "colab": {
      "name": "Spotlight Digital Challenge.ipynb",
      "provenance": [],
      "collapsed_sections": []
    },
    "kernelspec": {
      "name": "python3",
      "display_name": "Python 3"
    },
    "language_info": {
      "name": "python"
    },
    "accelerator": "GPU",
    "widgets": {
      "application/vnd.jupyter.widget-state+json": {
        "4bcd5c029ff44ebb8263cd9361c949ad": {
          "model_module": "@jupyter-widgets/controls",
          "model_name": "HBoxModel",
          "model_module_version": "1.5.0",
          "state": {
            "_dom_classes": [],
            "_model_module": "@jupyter-widgets/controls",
            "_model_module_version": "1.5.0",
            "_model_name": "HBoxModel",
            "_view_count": null,
            "_view_module": "@jupyter-widgets/controls",
            "_view_module_version": "1.5.0",
            "_view_name": "HBoxView",
            "box_style": "",
            "children": [
              "IPY_MODEL_953ae96746fa463a8ad75fc6dceb77df",
              "IPY_MODEL_8c7dad3bee8e4294bfe648bea6d5e14d",
              "IPY_MODEL_1bf8bec8ea624bbda9f4f82c8c5276c8"
            ],
            "layout": "IPY_MODEL_9d51f1dbb2674fdfafcfe16afc95cc2c"
          }
        },
        "953ae96746fa463a8ad75fc6dceb77df": {
          "model_module": "@jupyter-widgets/controls",
          "model_name": "HTMLModel",
          "model_module_version": "1.5.0",
          "state": {
            "_dom_classes": [],
            "_model_module": "@jupyter-widgets/controls",
            "_model_module_version": "1.5.0",
            "_model_name": "HTMLModel",
            "_view_count": null,
            "_view_module": "@jupyter-widgets/controls",
            "_view_module_version": "1.5.0",
            "_view_name": "HTMLView",
            "description": "",
            "description_tooltip": null,
            "layout": "IPY_MODEL_f73235d624ee4780a2224f366a06a695",
            "placeholder": "​",
            "style": "IPY_MODEL_691270470a61484b857c9cce0c7fc827",
            "value": ""
          }
        },
        "8c7dad3bee8e4294bfe648bea6d5e14d": {
          "model_module": "@jupyter-widgets/controls",
          "model_name": "FloatProgressModel",
          "model_module_version": "1.5.0",
          "state": {
            "_dom_classes": [],
            "_model_module": "@jupyter-widgets/controls",
            "_model_module_version": "1.5.0",
            "_model_name": "FloatProgressModel",
            "_view_count": null,
            "_view_module": "@jupyter-widgets/controls",
            "_view_module_version": "1.5.0",
            "_view_name": "ProgressView",
            "bar_style": "success",
            "description": "",
            "description_tooltip": null,
            "layout": "IPY_MODEL_73ef8af1dee24d7c991f6dfdcbed7232",
            "max": 1,
            "min": 0,
            "orientation": "horizontal",
            "style": "IPY_MODEL_67f0bf20cef0473da8270082edf57a4c",
            "value": 1
          }
        },
        "1bf8bec8ea624bbda9f4f82c8c5276c8": {
          "model_module": "@jupyter-widgets/controls",
          "model_name": "HTMLModel",
          "model_module_version": "1.5.0",
          "state": {
            "_dom_classes": [],
            "_model_module": "@jupyter-widgets/controls",
            "_model_module_version": "1.5.0",
            "_model_name": "HTMLModel",
            "_view_count": null,
            "_view_module": "@jupyter-widgets/controls",
            "_view_module_version": "1.5.0",
            "_view_name": "HTMLView",
            "description": "",
            "description_tooltip": null,
            "layout": "IPY_MODEL_44cecc01c82c4a1eac673b5329f22773",
            "placeholder": "​",
            "style": "IPY_MODEL_e6ccbb9313794e55b73eac73d042c580",
            "value": " 389/? [00:21&lt;00:00, 34.58it/s]"
          }
        },
        "9d51f1dbb2674fdfafcfe16afc95cc2c": {
          "model_module": "@jupyter-widgets/base",
          "model_name": "LayoutModel",
          "model_module_version": "1.2.0",
          "state": {
            "_model_module": "@jupyter-widgets/base",
            "_model_module_version": "1.2.0",
            "_model_name": "LayoutModel",
            "_view_count": null,
            "_view_module": "@jupyter-widgets/base",
            "_view_module_version": "1.2.0",
            "_view_name": "LayoutView",
            "align_content": null,
            "align_items": null,
            "align_self": null,
            "border": null,
            "bottom": null,
            "display": null,
            "flex": null,
            "flex_flow": null,
            "grid_area": null,
            "grid_auto_columns": null,
            "grid_auto_flow": null,
            "grid_auto_rows": null,
            "grid_column": null,
            "grid_gap": null,
            "grid_row": null,
            "grid_template_areas": null,
            "grid_template_columns": null,
            "grid_template_rows": null,
            "height": null,
            "justify_content": null,
            "justify_items": null,
            "left": null,
            "margin": null,
            "max_height": null,
            "max_width": null,
            "min_height": null,
            "min_width": null,
            "object_fit": null,
            "object_position": null,
            "order": null,
            "overflow": null,
            "overflow_x": null,
            "overflow_y": null,
            "padding": null,
            "right": null,
            "top": null,
            "visibility": null,
            "width": null
          }
        },
        "f73235d624ee4780a2224f366a06a695": {
          "model_module": "@jupyter-widgets/base",
          "model_name": "LayoutModel",
          "model_module_version": "1.2.0",
          "state": {
            "_model_module": "@jupyter-widgets/base",
            "_model_module_version": "1.2.0",
            "_model_name": "LayoutModel",
            "_view_count": null,
            "_view_module": "@jupyter-widgets/base",
            "_view_module_version": "1.2.0",
            "_view_name": "LayoutView",
            "align_content": null,
            "align_items": null,
            "align_self": null,
            "border": null,
            "bottom": null,
            "display": null,
            "flex": null,
            "flex_flow": null,
            "grid_area": null,
            "grid_auto_columns": null,
            "grid_auto_flow": null,
            "grid_auto_rows": null,
            "grid_column": null,
            "grid_gap": null,
            "grid_row": null,
            "grid_template_areas": null,
            "grid_template_columns": null,
            "grid_template_rows": null,
            "height": null,
            "justify_content": null,
            "justify_items": null,
            "left": null,
            "margin": null,
            "max_height": null,
            "max_width": null,
            "min_height": null,
            "min_width": null,
            "object_fit": null,
            "object_position": null,
            "order": null,
            "overflow": null,
            "overflow_x": null,
            "overflow_y": null,
            "padding": null,
            "right": null,
            "top": null,
            "visibility": null,
            "width": null
          }
        },
        "691270470a61484b857c9cce0c7fc827": {
          "model_module": "@jupyter-widgets/controls",
          "model_name": "DescriptionStyleModel",
          "model_module_version": "1.5.0",
          "state": {
            "_model_module": "@jupyter-widgets/controls",
            "_model_module_version": "1.5.0",
            "_model_name": "DescriptionStyleModel",
            "_view_count": null,
            "_view_module": "@jupyter-widgets/base",
            "_view_module_version": "1.2.0",
            "_view_name": "StyleView",
            "description_width": ""
          }
        },
        "73ef8af1dee24d7c991f6dfdcbed7232": {
          "model_module": "@jupyter-widgets/base",
          "model_name": "LayoutModel",
          "model_module_version": "1.2.0",
          "state": {
            "_model_module": "@jupyter-widgets/base",
            "_model_module_version": "1.2.0",
            "_model_name": "LayoutModel",
            "_view_count": null,
            "_view_module": "@jupyter-widgets/base",
            "_view_module_version": "1.2.0",
            "_view_name": "LayoutView",
            "align_content": null,
            "align_items": null,
            "align_self": null,
            "border": null,
            "bottom": null,
            "display": null,
            "flex": null,
            "flex_flow": null,
            "grid_area": null,
            "grid_auto_columns": null,
            "grid_auto_flow": null,
            "grid_auto_rows": null,
            "grid_column": null,
            "grid_gap": null,
            "grid_row": null,
            "grid_template_areas": null,
            "grid_template_columns": null,
            "grid_template_rows": null,
            "height": null,
            "justify_content": null,
            "justify_items": null,
            "left": null,
            "margin": null,
            "max_height": null,
            "max_width": null,
            "min_height": null,
            "min_width": null,
            "object_fit": null,
            "object_position": null,
            "order": null,
            "overflow": null,
            "overflow_x": null,
            "overflow_y": null,
            "padding": null,
            "right": null,
            "top": null,
            "visibility": null,
            "width": "20px"
          }
        },
        "67f0bf20cef0473da8270082edf57a4c": {
          "model_module": "@jupyter-widgets/controls",
          "model_name": "ProgressStyleModel",
          "model_module_version": "1.5.0",
          "state": {
            "_model_module": "@jupyter-widgets/controls",
            "_model_module_version": "1.5.0",
            "_model_name": "ProgressStyleModel",
            "_view_count": null,
            "_view_module": "@jupyter-widgets/base",
            "_view_module_version": "1.2.0",
            "_view_name": "StyleView",
            "bar_color": null,
            "description_width": ""
          }
        },
        "44cecc01c82c4a1eac673b5329f22773": {
          "model_module": "@jupyter-widgets/base",
          "model_name": "LayoutModel",
          "model_module_version": "1.2.0",
          "state": {
            "_model_module": "@jupyter-widgets/base",
            "_model_module_version": "1.2.0",
            "_model_name": "LayoutModel",
            "_view_count": null,
            "_view_module": "@jupyter-widgets/base",
            "_view_module_version": "1.2.0",
            "_view_name": "LayoutView",
            "align_content": null,
            "align_items": null,
            "align_self": null,
            "border": null,
            "bottom": null,
            "display": null,
            "flex": null,
            "flex_flow": null,
            "grid_area": null,
            "grid_auto_columns": null,
            "grid_auto_flow": null,
            "grid_auto_rows": null,
            "grid_column": null,
            "grid_gap": null,
            "grid_row": null,
            "grid_template_areas": null,
            "grid_template_columns": null,
            "grid_template_rows": null,
            "height": null,
            "justify_content": null,
            "justify_items": null,
            "left": null,
            "margin": null,
            "max_height": null,
            "max_width": null,
            "min_height": null,
            "min_width": null,
            "object_fit": null,
            "object_position": null,
            "order": null,
            "overflow": null,
            "overflow_x": null,
            "overflow_y": null,
            "padding": null,
            "right": null,
            "top": null,
            "visibility": null,
            "width": null
          }
        },
        "e6ccbb9313794e55b73eac73d042c580": {
          "model_module": "@jupyter-widgets/controls",
          "model_name": "DescriptionStyleModel",
          "model_module_version": "1.5.0",
          "state": {
            "_model_module": "@jupyter-widgets/controls",
            "_model_module_version": "1.5.0",
            "_model_name": "DescriptionStyleModel",
            "_view_count": null,
            "_view_module": "@jupyter-widgets/base",
            "_view_module_version": "1.2.0",
            "_view_name": "StyleView",
            "description_width": ""
          }
        }
      }
    }
  },
  "cells": [
    {
      "cell_type": "code",
      "execution_count": null,
      "metadata": {
        "id": "R2BHQUn1DhL3"
      },
      "outputs": [],
      "source": [
        "!pip install polyglot\n",
        "!pip install pyicu\n",
        "!pip install pycld2\n",
        "!pip install morfessor\n",
        "!pip install transformers"
      ]
    },
    {
      "cell_type": "code",
      "source": [
        "import ast\n",
        "from tqdm.auto import tqdm"
      ],
      "metadata": {
        "id": "UXySjbNoBHmV"
      },
      "execution_count": 2,
      "outputs": []
    },
    {
      "cell_type": "code",
      "source": [
        "!polyglot download sentiment2.ru"
      ],
      "metadata": {
        "colab": {
          "base_uri": "https://localhost:8080/"
        },
        "id": "fBaoWiNhFFbl",
        "outputId": "ee0e67fa-3160-4bc9-c96d-61aa4488cb94"
      },
      "execution_count": 3,
      "outputs": [
        {
          "output_type": "stream",
          "name": "stdout",
          "text": [
            "[polyglot_data] Downloading package sentiment2.ru to\n",
            "[polyglot_data]     /root/polyglot_data...\n"
          ]
        }
      ]
    },
    {
      "cell_type": "code",
      "source": [
        "from polyglot.text import Text as T\n",
        "text = T(\"А это намного лучше, даже хорошо!\")\n",
        "text.polarity"
      ],
      "metadata": {
        "colab": {
          "base_uri": "https://localhost:8080/"
        },
        "id": "2pVgX8UODoap",
        "outputId": "df006e5f-7256-430d-a411-8b901e43dfe9"
      },
      "execution_count": 4,
      "outputs": [
        {
          "output_type": "execute_result",
          "data": {
            "text/plain": [
              "1.0"
            ]
          },
          "metadata": {},
          "execution_count": 4
        }
      ]
    },
    {
      "cell_type": "code",
      "source": [
        "from polyglot.text import Text as T\n",
        "text = T(\"И это очень раздражает\")\n",
        "text.polarity"
      ],
      "metadata": {
        "colab": {
          "base_uri": "https://localhost:8080/"
        },
        "id": "qS-_Z2jYanav",
        "outputId": "12557d64-bf68-465d-a11d-8e38a61f57c2"
      },
      "execution_count": 49,
      "outputs": [
        {
          "output_type": "execute_result",
          "data": {
            "text/plain": [
              "-1.0"
            ]
          },
          "metadata": {},
          "execution_count": 49
        }
      ]
    },
    {
      "cell_type": "code",
      "source": [
        "from transformers import AutoTokenizer, AutoModelForSequenceClassification\n",
        "from torch.nn import functional as F\n",
        "from torch import argmax\n",
        "from torch import no_grad\n",
        "from torch import device, cuda\n",
        "\n",
        "device = device(\"cuda\" if cuda.is_available() else \"cpu\")\n",
        "tokenizer = AutoTokenizer.from_pretrained(\"sismetanin/rubert-toxic-pikabu-2ch\")\n",
        "\n",
        "model = AutoModelForSequenceClassification.from_pretrained(\"sismetanin/rubert-toxic-pikabu-2ch\").to(device)\n",
        "\n",
        "text = \"На кол её суку,или сначало избить,желательно ногами,тварина\"\n",
        "encoded_input = tokenizer(text, return_tensors='pt').to(device)\n",
        "with no_grad():\n",
        "  output = model(**encoded_input)\n"
      ],
      "metadata": {
        "id": "NhOucOLjDqns"
      },
      "execution_count": 9,
      "outputs": []
    },
    {
      "cell_type": "code",
      "source": [
        "probabilities = F.softmax(output.logits, dim=-1)\n",
        "predictions = argmax(probabilities, axis=1)\n",
        "print(probabilities[0].cpu().numpy(), predictions[0].item())"
      ],
      "metadata": {
        "colab": {
          "base_uri": "https://localhost:8080/"
        },
        "id": "pG8Ovw9jGqPm",
        "outputId": "6b722d41-e39c-417b-8c6b-f297ad2fa8c6"
      },
      "execution_count": 12,
      "outputs": [
        {
          "output_type": "stream",
          "name": "stdout",
          "text": [
            "[0.00525234 0.9947476 ] 1\n"
          ]
        }
      ]
    },
    {
      "cell_type": "code",
      "source": [
        "def is_toxic_comment(model, tokenizer, text: str):\n",
        "  encoded_input = tokenizer(text, return_tensors='pt').to(device)\n",
        "  with no_grad():\n",
        "    output = model(**encoded_input)\n",
        "  probabilities = F.softmax(output.logits, dim=-1)\n",
        "  predictions = argmax(probabilities, axis=1)\n",
        "  return probabilities[0].cpu().numpy(), predictions[0].item()"
      ],
      "metadata": {
        "id": "G1HmyGcDUuHh"
      },
      "execution_count": 13,
      "outputs": []
    },
    {
      "cell_type": "code",
      "source": [
        "text = \"На кол её суку,или сначало избить,желательно ногами,тварина\"\n",
        "probs, comment_class = is_toxic_comment(model, tokenizer, text)\n",
        "print(probs)\n",
        "print('not toxic' if comment_class == 0 else 'toxic')"
      ],
      "metadata": {
        "colab": {
          "base_uri": "https://localhost:8080/"
        },
        "id": "5OvkiczBU-_p",
        "outputId": "8dd227b5-059a-4276-8147-64de939a0cee"
      },
      "execution_count": 14,
      "outputs": [
        {
          "output_type": "stream",
          "name": "stdout",
          "text": [
            "[0.00525234 0.9947476 ]\n",
            "toxic\n"
          ]
        }
      ]
    },
    {
      "cell_type": "code",
      "source": [
        "import pandas as pd\n",
        "import numpy as np"
      ],
      "metadata": {
        "id": "pjQML9f4uumC"
      },
      "execution_count": 15,
      "outputs": []
    },
    {
      "cell_type": "code",
      "source": [
        "df = pd.read_csv('sport.csv')\n",
        "df.head()\n",
        "df.info()"
      ],
      "metadata": {
        "colab": {
          "base_uri": "https://localhost:8080/"
        },
        "id": "lHZEUSy9u2ST",
        "outputId": "7f67e981-880b-443f-d963-3c865fa216c0"
      },
      "execution_count": 115,
      "outputs": [
        {
          "output_type": "stream",
          "name": "stdout",
          "text": [
            "<class 'pandas.core.frame.DataFrame'>\n",
            "RangeIndex: 389 entries, 0 to 388\n",
            "Data columns (total 5 columns):\n",
            " #   Column        Non-Null Count  Dtype \n",
            "---  ------        --------------  ----- \n",
            " 0   title         389 non-null    object\n",
            " 1   num_comments  389 non-null    int64 \n",
            " 2   link          389 non-null    object\n",
            " 3   text          389 non-null    object\n",
            " 4   comments      389 non-null    object\n",
            "dtypes: int64(1), object(4)\n",
            "memory usage: 15.3+ KB\n"
          ]
        }
      ]
    },
    {
      "cell_type": "code",
      "source": [
        "!pip install natasha"
      ],
      "metadata": {
        "id": "1bu8Ve_LwDeF"
      },
      "execution_count": null,
      "outputs": []
    },
    {
      "cell_type": "code",
      "source": [
        "from natasha import (\n",
        "    Segmenter,\n",
        "    \n",
        "    NewsEmbedding,\n",
        "    NewsMorphTagger,\n",
        "\n",
        "    Doc\n",
        ")"
      ],
      "metadata": {
        "id": "w0In1NAlw-AV"
      },
      "execution_count": 18,
      "outputs": []
    },
    {
      "cell_type": "code",
      "source": [
        "class GenderIdentifier:\n",
        "    \n",
        "    def __init__(self):\n",
        "        self.segmenter = Segmenter()\n",
        "        self.emb = NewsEmbedding()\n",
        "        self.morph_tagger = NewsMorphTagger(self.emb)\n",
        "\n",
        "\n",
        "    def get_gender_from_text(self, news_title):\n",
        "        doc = Doc(news_title)\n",
        "        doc.segment(self.segmenter)\n",
        "        doc.tag_morph(self.morph_tagger)\n",
        "        is_female = self.is_female(doc)\n",
        "        return is_female\n",
        "\n",
        "\n",
        "    def is_female(self, doc):\n",
        "        fem_count = 0\n",
        "        masc_count = 0\n",
        "        for token in doc.tokens:\n",
        "            if token.pos == 'NOUN' and 'Animacy' in token.feats and  'Anim' == token.feats['Animacy']:                \n",
        "                if 'Fem' == token.feats['Gender']:\n",
        "                    fem_count+=1\n",
        "                elif 'Masc' == token.feats['Gender']:\n",
        "                    masc_count+=1\n",
        "            if token.pos == 'VERB' and 'Animacy' in token.feats and 'Gender' in token.feats:\n",
        "                if 'Fem' == token.feats['Gender']:\n",
        "                    fem_count+=1\n",
        "                elif 'Masc' == token.feats['Gender']:\n",
        "                    masc_count+=1\n",
        "        return fem_count, masc_count"
      ],
      "metadata": {
        "id": "NdmTK10Hw_yu"
      },
      "execution_count": 22,
      "outputs": []
    },
    {
      "cell_type": "code",
      "source": [
        "gend_ident = GenderIdentifier()"
      ],
      "metadata": {
        "id": "qLhs5ZJrxB4k"
      },
      "execution_count": 23,
      "outputs": []
    },
    {
      "cell_type": "code",
      "source": [
        "toxicity = []\n",
        "fems = []\n",
        "mascs = []\n",
        "\n",
        "for title, comments in tqdm(zip(df.title.to_numpy(), df.comments.to_numpy())):\n",
        "  fem, masc = gend_ident.get_gender_from_text(title)\n",
        "  fems.append(fem)\n",
        "  mascs.append(masc)\n",
        "  \n",
        "  avg_prob = []  \n",
        "  for comment in ast.literal_eval(comments):\n",
        "    try:\n",
        "      probs, comment_class = is_toxic_comment(model, tokenizer, comment)\n",
        "    except:\n",
        "        pass\n",
        "    else:\n",
        "      avg_prob.append(probs)\n",
        "  if len(avg_prob) > 0:\n",
        "    avg_prob = np.average(avg_prob, axis=0)\n",
        "    toxicity.append(list(avg_prob))\n",
        "  else:\n",
        "    toxicity.append([0.0, 0.0])\n",
        "\n",
        "print(toxicity)\n",
        "print(fems)\n",
        "print(mascs)"
      ],
      "metadata": {
        "colab": {
          "base_uri": "https://localhost:8080/",
          "height": 124,
          "referenced_widgets": [
            "4bcd5c029ff44ebb8263cd9361c949ad",
            "953ae96746fa463a8ad75fc6dceb77df",
            "8c7dad3bee8e4294bfe648bea6d5e14d",
            "1bf8bec8ea624bbda9f4f82c8c5276c8",
            "9d51f1dbb2674fdfafcfe16afc95cc2c",
            "f73235d624ee4780a2224f366a06a695",
            "691270470a61484b857c9cce0c7fc827",
            "73ef8af1dee24d7c991f6dfdcbed7232",
            "67f0bf20cef0473da8270082edf57a4c",
            "44cecc01c82c4a1eac673b5329f22773",
            "e6ccbb9313794e55b73eac73d042c580"
          ]
        },
        "id": "z9h1OBNExGqY",
        "outputId": "e6eb3724-99b5-4667-d53d-068179f327a6"
      },
      "execution_count": 116,
      "outputs": [
        {
          "output_type": "display_data",
          "data": {
            "text/plain": [
              "0it [00:00, ?it/s]"
            ],
            "application/vnd.jupyter.widget-view+json": {
              "version_major": 2,
              "version_minor": 0,
              "model_id": "4bcd5c029ff44ebb8263cd9361c949ad"
            }
          },
          "metadata": {}
        },
        {
          "output_type": "stream",
          "name": "stdout",
          "text": [
            "[[0.4604861, 0.5395138], [0.89191186, 0.10808822], [0.6519997, 0.3480003], [0.37079102, 0.629209], [0.9971236, 0.002876417], [0.9920704, 0.00792965], [0.65252054, 0.34747943], [0.04888449, 0.95111555], [0.88020056, 0.11979946], [0.20660943, 0.7933906], [0.59496635, 0.40503368], [0.45025483, 0.5497452], [0.517635, 0.48236498], [0.97777945, 0.02222056], [0.06495988, 0.93504006], [0.0, 0.0], [0.56192803, 0.43807197], [0.5584275, 0.44157246], [0.9912607, 0.008739306], [0.38151592, 0.6184841], [0.7803817, 0.21961835], [0.62983453, 0.37016553], [0.63104415, 0.36895588], [0.6586129, 0.34138706], [0.99729127, 0.0027087128], [0.52989197, 0.47010797], [0.30372366, 0.69627637], [0.030755682, 0.9692443], [0.67357105, 0.32642892], [0.5216571, 0.4783429], [0.77955943, 0.22044067], [0.0, 0.0], [0.23411597, 0.765884], [0.81264883, 0.18735118], [0.26666155, 0.7333385], [0.0, 0.0], [0.2445371, 0.75546294], [0.0, 0.0], [0.0, 0.0], [0.0, 0.0], [0.97772133, 0.022278704], [0.993537, 0.006463021], [0.9920123, 0.007987721], [0.096933715, 0.9030663], [0.121408306, 0.87859166], [0.581543, 0.41845697], [0.952885, 0.047115013], [0.0, 0.0], [0.7491782, 0.25082183], [0.40255892, 0.597441], [0.36625293, 0.6337471], [0.993863, 0.0061369925], [0.96778375, 0.032216255], [0.4305851, 0.5694149], [0.5110567, 0.4889433], [0.006023379, 0.9939766], [0.38280392, 0.617196], [0.0, 0.0], [0.98362374, 0.016376251], [0.99710864, 0.0028914127], [0.9704298, 0.029570185], [0.0, 0.0], [0.0, 0.0], [0.95524234, 0.04475769], [0.81477904, 0.18522096], [0.89578754, 0.104212485], [0.0, 0.0], [0.37999707, 0.62000287], [0.9918938, 0.008106187], [0.3701567, 0.6298433], [0.98047364, 0.019526325], [0.0, 0.0], [0.0, 0.0], [0.0, 0.0], [0.0698299, 0.9301702], [0.0, 0.0], [0.0, 0.0], [0.0, 0.0], [0.33180463, 0.6681954], [0.0, 0.0], [0.19376987, 0.8062301], [0.0, 0.0], [0.0, 0.0], [0.5853586, 0.41464138], [0.22210059, 0.7778994], [0.8964772, 0.10352277], [0.0, 0.0], [0.006210082, 0.99379], [0.74577475, 0.25422513], [0.60937107, 0.39062893], [0.47824955, 0.5217505], [0.0, 0.0], [0.78711015, 0.21288984], [0.6293491, 0.3706509], [0.6263038, 0.37369618], [0.9874142, 0.012585742], [0.6655688, 0.33443114], [0.8306621, 0.16933794], [0.82960355, 0.17039646], [0.32350707, 0.6764929], [0.896136, 0.10386406], [0.45255634, 0.5474437], [0.42221355, 0.5777865], [0.0, 0.0], [0.84288245, 0.15711747], [0.35305342, 0.6469466], [0.44759154, 0.55240846], [0.6711748, 0.32882524], [0.35292992, 0.64707005], [0.63126945, 0.36873055], [0.99214697, 0.007853019], [0.39207432, 0.60792565], [0.45424944, 0.54575056], [0.16807726, 0.8319228], [0.32430422, 0.6756958], [0.60000485, 0.3999951], [0.5157548, 0.48424515], [0.49776086, 0.5022391], [0.23181006, 0.76818997], [0.66730404, 0.332696], [0.7677704, 0.2322295], [0.57222277, 0.42777723], [0.0, 0.0], [0.034338098, 0.9656619], [0.49749812, 0.50250185], [0.5974578, 0.4025422], [0.9945151, 0.005484905], [0.5666638, 0.43333623], [0.0, 0.0], [0.71296066, 0.28703937], [0.0, 0.0], [0.9722402, 0.027759759], [0.45460504, 0.545395], [0.6430947, 0.35690528], [0.65179014, 0.34820983], [0.6930577, 0.30694228], [0.66929495, 0.33070508], [0.0, 0.0], [0.997242, 0.0027580422], [0.48992237, 0.5100776], [0.5718569, 0.42814308], [0.0, 0.0], [0.669105, 0.330895], [0.6880249, 0.3119751], [0.9944148, 0.005585105], [0.46342322, 0.5365768], [0.62653023, 0.37346974], [0.7599216, 0.24007837], [0.0, 0.0], [0.3890935, 0.6109065], [0.45286176, 0.5471383], [0.0, 0.0], [0.94678545, 0.053214584], [0.62619245, 0.37380755], [0.0, 0.0], [0.0, 0.0], [0.0, 0.0], [0.70743644, 0.29256365], [0.9912352, 0.00876474], [0.97176933, 0.028230634], [0.0, 0.0], [0.0, 0.0], [0.0, 0.0], [0.99683976, 0.003160287], [0.26076576, 0.7392342], [0.93023014, 0.06976986], [0.0, 0.0], [0.57127845, 0.42872158], [0.8958022, 0.10419784], [0.29863635, 0.7013637], [0.8285961, 0.17140387], [0.88527185, 0.11472809], [0.6400408, 0.35995916], [0.99145925, 0.008540761], [0.5240178, 0.47598225], [0.4510316, 0.54896843], [0.0, 0.0], [0.0, 0.0], [0.037299544, 0.9627005], [0.6678858, 0.33211425], [0.99069905, 0.0093009], [0.51424396, 0.48575607], [0.46702662, 0.5329734], [0.77133805, 0.2286619], [0.7737889, 0.22621101], [0.37909365, 0.6209065], [0.43319812, 0.56680185], [0.26821345, 0.73178655], [0.7347659, 0.26523405], [0.9925613, 0.007438706], [0.60097766, 0.3990223], [0.17508464, 0.82491535], [0.41300315, 0.58699685], [0.9837558, 0.016244158], [0.77419394, 0.22580604], [0.0, 0.0], [0.8542456, 0.1457544], [0.8281496, 0.17185037], [0.0, 0.0], [0.52371824, 0.47628176], [0.0, 0.0], [0.0, 0.0], [0.0, 0.0], [0.0, 0.0], [0.15031701, 0.8496829], [0.0, 0.0], [0.0, 0.0], [0.0, 0.0], [0.0, 0.0], [0.0, 0.0], [0.0, 0.0], [0.0, 0.0], [0.0, 0.0], [0.0, 0.0], [0.0, 0.0], [0.97543055, 0.024569489], [0.16853693, 0.83146304], [0.0, 0.0], [0.0, 0.0], [0.98404217, 0.015957888], [0.0, 0.0], [0.0, 0.0], [0.0, 0.0], [0.0, 0.0], [0.0, 0.0], [0.9928681, 0.007131824], [0.0, 0.0], [0.04200898, 0.957991], [0.0, 0.0], [0.0, 0.0], [0.0, 0.0], [0.0, 0.0], [0.0, 0.0], [0.0, 0.0], [0.0, 0.0], [0.0, 0.0], [0.0, 0.0], [0.63095796, 0.369042], [0.0, 0.0], [0.42064217, 0.57935786], [0.9975193, 0.0024806254], [0.057855982, 0.942144], [0.9827723, 0.017227681], [0.0, 0.0], [0.0, 0.0], [0.9331689, 0.066831164], [0.9264587, 0.073541276], [0.097379036, 0.902621], [0.0, 0.0], [0.0, 0.0], [0.0, 0.0], [0.0, 0.0], [0.0, 0.0], [0.0, 0.0], [0.0, 0.0], [0.0, 0.0], [0.32874513, 0.6712549], [0.0, 0.0], [0.0, 0.0], [0.0, 0.0], [0.9923692, 0.007630758], [0.0, 0.0], [0.0, 0.0], [0.72025347, 0.2797465], [0.0, 0.0], [0.80117214, 0.19882786], [0.0, 0.0], [0.23999226, 0.76000774], [0.0, 0.0], [0.0, 0.0], [0.0, 0.0], [0.0, 0.0], [0.0, 0.0], [0.0, 0.0], [0.0, 0.0], [0.0, 0.0], [0.0, 0.0], [0.0, 0.0], [0.0, 0.0], [0.0, 0.0], [0.0, 0.0], [0.0, 0.0], [0.0, 0.0], [0.0, 0.0], [0.0, 0.0], [0.0, 0.0], [0.0, 0.0], [0.0, 0.0], [0.0, 0.0], [0.0, 0.0], [0.0, 0.0], [0.0, 0.0], [0.0, 0.0], [0.0, 0.0], [0.0, 0.0], [0.0, 0.0], [0.9852128, 0.014787147], [0.7651872, 0.23481275], [0.0, 0.0], [0.0, 0.0], [0.0, 0.0], [0.6890219, 0.31097803], [0.99745995, 0.0025401204], [0.9331692, 0.06683081], [0.0, 0.0], [0.0, 0.0], [0.0, 0.0], [0.0, 0.0], [0.0, 0.0], [0.0, 0.0], [0.10957809, 0.8904219], [0.0, 0.0], [0.0, 0.0], [0.0, 0.0], [0.0, 0.0], [0.0, 0.0], [0.0, 0.0], [0.0, 0.0], [0.0, 0.0], [0.0, 0.0], [0.0, 0.0], [0.0, 0.0], [0.0, 0.0], [0.0, 0.0], [0.0, 0.0], [0.0, 0.0], [0.0, 0.0], [0.0, 0.0], [0.0, 0.0], [0.0, 0.0], [0.0, 0.0], [0.0, 0.0], [0.0, 0.0], [0.0, 0.0], [0.0, 0.0], [0.0, 0.0], [0.0, 0.0], [0.0, 0.0], [0.0, 0.0], [0.0, 0.0], [0.0, 0.0], [0.0, 0.0], [0.0, 0.0], [0.0, 0.0], [0.0, 0.0], [0.0, 0.0], [0.0, 0.0], [0.6294624, 0.3705376], [0.0, 0.0], [0.9977642, 0.0022357588], [0.0, 0.0], [0.0, 0.0], [0.0, 0.0], [0.0, 0.0], [0.25990194, 0.7400981], [0.0, 0.0], [0.0, 0.0], [0.0, 0.0], [0.0, 0.0], [0.0, 0.0], [0.0, 0.0], [0.98434514, 0.015654828], [0.15968412, 0.8403159], [0.0, 0.0], [0.110797465, 0.8892025], [0.25925776, 0.7407422], [0.0, 0.0], [0.020748975, 0.979251], [0.0083689615, 0.9916311], [0.0, 0.0], [0.0, 0.0], [0.0, 0.0], [0.0, 0.0], [0.0, 0.0], [0.0, 0.0], [0.0, 0.0], [0.0, 0.0], [0.0, 0.0], [0.0, 0.0], [0.0, 0.0], [0.0, 0.0], [0.0, 0.0], [0.0, 0.0], [0.0, 0.0], [0.0, 0.0], [0.0, 0.0], [0.0, 0.0], [0.0, 0.0], [0.0, 0.0]]\n",
            "[0, 0, 0, 0, 0, 0, 0, 0, 0, 0, 0, 0, 0, 0, 0, 0, 0, 0, 0, 0, 0, 0, 0, 0, 0, 0, 0, 0, 0, 0, 0, 0, 0, 0, 0, 0, 0, 0, 0, 0, 0, 0, 0, 0, 0, 0, 0, 0, 0, 0, 0, 0, 0, 0, 0, 0, 0, 0, 0, 0, 0, 0, 0, 0, 0, 1, 0, 1, 0, 0, 0, 0, 0, 0, 0, 0, 0, 1, 1, 0, 0, 0, 0, 0, 0, 0, 0, 0, 0, 0, 0, 0, 0, 0, 0, 0, 0, 0, 0, 0, 0, 0, 0, 0, 1, 0, 0, 0, 0, 0, 0, 0, 0, 0, 0, 0, 0, 0, 1, 0, 0, 0, 0, 0, 0, 0, 0, 0, 0, 0, 0, 0, 0, 0, 0, 0, 0, 0, 0, 0, 0, 0, 0, 0, 0, 0, 0, 1, 0, 1, 0, 0, 0, 1, 0, 0, 0, 0, 0, 0, 0, 0, 0, 0, 0, 0, 0, 0, 0, 0, 0, 0, 0, 0, 0, 0, 0, 0, 0, 0, 0, 0, 0, 0, 0, 0, 0, 2, 0, 0, 1, 1, 0, 0, 0, 0, 0, 0, 0, 0, 0, 0, 0, 0, 0, 0, 0, 0, 0, 0, 0, 0, 0, 0, 0, 0, 0, 0, 0, 0, 0, 1, 0, 0, 0, 0, 0, 0, 0, 0, 0, 0, 0, 0, 0, 0, 0, 0, 0, 0, 0, 0, 0, 0, 0, 0, 0, 0, 0, 0, 0, 0, 0, 0, 0, 0, 0, 0, 0, 1, 0, 0, 0, 1, 0, 0, 0, 0, 0, 0, 0, 0, 0, 0, 0, 0, 0, 0, 0, 0, 1, 0, 0, 0, 0, 0, 0, 0, 0, 0, 0, 0, 0, 0, 0, 0, 1, 0, 1, 0, 0, 0, 0, 0, 0, 1, 0, 0, 0, 0, 0, 0, 0, 0, 0, 0, 0, 0, 0, 0, 0, 0, 0, 0, 0, 1, 0, 0, 0, 0, 0, 0, 0, 0, 0, 0, 0, 0, 0, 0, 0, 0, 0, 0, 0, 0, 0, 0, 0, 0, 0, 0, 0, 0, 0, 0, 0, 0, 0, 0, 0, 0, 0, 0, 0, 0, 0, 0, 0, 0, 0, 0, 0, 0, 0, 0, 0, 0, 0, 0, 1, 0, 0, 0, 0, 0, 0, 1, 0]\n",
            "[1, 0, 0, 0, 1, 1, 0, 1, 1, 1, 1, 0, 0, 1, 0, 1, 1, 0, 0, 1, 2, 1, 2, 1, 0, 0, 2, 2, 0, 1, 0, 0, 1, 1, 1, 1, 2, 0, 0, 0, 0, 3, 1, 0, 1, 1, 1, 1, 1, 1, 2, 0, 1, 0, 1, 1, 2, 1, 0, 0, 0, 3, 0, 1, 0, 0, 0, 0, 1, 0, 0, 1, 1, 1, 1, 0, 0, 0, 0, 0, 1, 0, 1, 0, 0, 1, 1, 0, 1, 0, 2, 0, 1, 3, 2, 1, 1, 1, 2, 0, 2, 1, 0, 1, 0, 1, 0, 1, 0, 0, 1, 0, 0, 1, 0, 0, 1, 1, 0, 1, 1, 1, 0, 1, 0, 0, 1, 1, 0, 0, 2, 1, 0, 0, 2, 1, 0, 0, 0, 0, 0, 0, 1, 0, 1, 2, 1, 0, 0, 0, 0, 0, 1, 0, 0, 0, 0, 1, 0, 2, 0, 1, 1, 2, 0, 1, 0, 0, 0, 1, 1, 0, 1, 0, 0, 0, 1, 0, 0, 0, 1, 0, 1, 2, 1, 2, 0, 1, 1, 0, 0, 0, 1, 1, 0, 0, 1, 0, 1, 0, 0, 0, 2, 0, 0, 0, 1, 0, 0, 1, 1, 0, 0, 0, 2, 1, 2, 0, 0, 1, 2, 0, 0, 1, 2, 0, 0, 0, 0, 1, 0, 1, 1, 1, 1, 1, 1, 1, 0, 1, 0, 1, 1, 1, 1, 0, 0, 1, 0, 1, 0, 2, 0, 0, 0, 0, 1, 1, 0, 0, 1, 1, 0, 0, 0, 1, 1, 0, 1, 1, 0, 0, 1, 0, 0, 1, 1, 1, 1, 1, 0, 0, 0, 1, 1, 0, 2, 0, 1, 1, 2, 0, 1, 0, 1, 0, 0, 1, 0, 1, 1, 0, 0, 1, 0, 0, 1, 1, 0, 0, 0, 0, 0, 0, 0, 0, 0, 0, 1, 1, 0, 0, 0, 0, 1, 0, 1, 3, 0, 1, 1, 2, 0, 0, 1, 0, 0, 2, 0, 2, 1, 1, 0, 0, 1, 1, 0, 2, 1, 0, 1, 0, 0, 0, 1, 0, 1, 0, 0, 2, 1, 0, 0, 0, 0, 0, 1, 0, 1, 0, 0, 1, 0, 1, 0, 0, 1, 0, 0, 2, 0, 1, 1, 0, 0, 0, 0, 0, 0]\n"
          ]
        }
      ]
    },
    {
      "cell_type": "code",
      "source": [
        "from numpy.ma.core import masked_values\n",
        "df['toxicity'] = toxicity\n",
        "df['fem'] = fems\n",
        "df['masc'] = mascs"
      ],
      "metadata": {
        "id": "SeqrWOlGI6ns"
      },
      "execution_count": 117,
      "outputs": []
    },
    {
      "cell_type": "code",
      "source": [
        "df.tail(20)"
      ],
      "metadata": {
        "colab": {
          "base_uri": "https://localhost:8080/",
          "height": 1000
        },
        "id": "Et0cLMHqJDvB",
        "outputId": "5f46a680-c2ae-4e02-f136-2b7620c9353e"
      },
      "execution_count": 118,
      "outputs": [
        {
          "output_type": "execute_result",
          "data": {
            "text/plain": [
              "                                                 title  num_comments  \\\n",
              "369      Футбольный стадион «Бунёдкор» сменил название             0   \n",
              "370  Оксана Чусовитина завоевала «золото» Кубка выз...             0   \n",
              "371  Новым президентом Федерации легкой атлетики из...             0   \n",
              "372  Ботир Парпиев покинул еще одну руководящую дол...             0   \n",
              "373  В Федерации каратэ Узбекистана избран новый пр...             0   \n",
              "374  В Ташкенте пройдет велотур «Здоровая семья – б...             0   \n",
              "375                          Лига Чемпионов в Ташкенте             0   \n",
              "376  Временный глава AIBA Гафур Рахимов обратится в...             0   \n",
              "377  Новый антирекорд: Узбекистан потерял 16 позици...             0   \n",
              "378  В Ташкенте открылась школа немецкого футбола F...             0   \n",
              "379  Двое шахматистов Узбекистана получили звание м...             0   \n",
              "380  12-летняя шахматистка из Узбекистана стала Чем...             0   \n",
              "381  Заррина Абдуллаева избрана президентом Федерац...             0   \n",
              "382  Равшан Ирматов включен в список судей на Чемпи...             0   \n",
              "383  В Ташкенте открылась профессиональная Академия...             0   \n",
              "384      Фоторепортаж с веломарофона «Ташкент-Шымкент»             0   \n",
              "385  Оксана Чусовитина завоевала «золото» Кубка мир...             0   \n",
              "386  Обнародован новый рейтинг ФИФА: Какое место за...             0   \n",
              "387  Узбекская шахматистка завоевала первое место н...             0   \n",
              "388              В Узбекистане создается федерация ММА             0   \n",
              "\n",
              "                              link  \\\n",
              "369  https://uznews.uz/posts/24666   \n",
              "370  https://uznews.uz/posts/43990   \n",
              "371  https://uznews.uz/posts/50356   \n",
              "372  https://uznews.uz/posts/44804   \n",
              "373  https://uznews.uz/posts/45971   \n",
              "374  https://uznews.uz/posts/45296   \n",
              "375  https://uznews.uz/posts/44305   \n",
              "376  https://uznews.uz/posts/47311   \n",
              "377  https://uznews.uz/posts/52257   \n",
              "378  https://uznews.uz/posts/46732   \n",
              "379  https://uznews.uz/posts/47665   \n",
              "380  https://uznews.uz/posts/46017   \n",
              "381  https://uznews.uz/posts/43648   \n",
              "382  https://uznews.uz/posts/45438   \n",
              "383  https://uznews.uz/posts/44882   \n",
              "384  https://uznews.uz/posts/50231   \n",
              "385  https://uznews.uz/posts/45969   \n",
              "386  https://uznews.uz/posts/47398   \n",
              "387  https://uznews.uz/posts/50600   \n",
              "388  https://uznews.uz/posts/52093   \n",
              "\n",
              "                                                  text comments    toxicity  \\\n",
              "369  Расположенный в Чиланзарском районе футбольный...       []  [0.0, 0.0]   \n",
              "370  Чусовитина стала лучшей в опорном прыжке, набр...       []  [0.0, 0.0]   \n",
              "371  Нового руководителя федерации избрали в ходе в...       []  [0.0, 0.0]   \n",
              "372  19 мая в Национальном Олимпийском комитете Узб...       []  [0.0, 0.0]   \n",
              "373  Сегодня, 16 мая, здании НОК Узбекистана состоя...       []  [0.0, 0.0]   \n",
              "374  Согласно правилам, в спортивном мероприятии мо...       []  [0.0, 0.0]   \n",
              "375  Турнир организован среди воспитанников детской...       []  [0.0, 0.0]   \n",
              "376  Гафур Рахимов поручил своим адвокатам в Вашинг...       []  [0.0, 0.0]   \n",
              "377  Согласно новому рейтингу, сборная Узбекистана ...       []  [0.0, 0.0]   \n",
              "378  В данной школе проводятся тренировки на высоко...       []  [0.0, 0.0]   \n",
              "379  Как сообщает Федерация шахмат Узбекистана, все...       []  [0.0, 0.0]   \n",
              "380  8 апреля в Таиланде состоялся Чемпионат Азии п...       []  [0.0, 0.0]   \n",
              "381  Сегодня, 4 апреля, в Национальном Олимпийском ...       []  [0.0, 0.0]   \n",
              "382  Комитет судей ФИФА определил 36 судей и 63 пом...       []  [0.0, 0.0]   \n",
              "383  По словам основатель зала – профессионального ...       []  [0.0, 0.0]   \n",
              "384  Спортивное соревнование организовано Федерацие...       []  [0.0, 0.0]   \n",
              "385  Чусовитина стала лучшей в опорном прыжке, набр...       []  [0.0, 0.0]   \n",
              "386  Согласно обновлённому рейтингу, сборная Узбеки...       []  [0.0, 0.0]   \n",
              "387  Международный круговой турнир проходил при уча...       []  [0.0, 0.0]   \n",
              "388  6 марта, в музее Олимпийской славы в Ташкенте ...       []  [0.0, 0.0]   \n",
              "\n",
              "     fem  masc  \n",
              "369    0     0  \n",
              "370    0     0  \n",
              "371    0     1  \n",
              "372    0     0  \n",
              "373    0     1  \n",
              "374    0     0  \n",
              "375    0     0  \n",
              "376    0     1  \n",
              "377    0     0  \n",
              "378    0     0  \n",
              "379    0     2  \n",
              "380    1     0  \n",
              "381    0     1  \n",
              "382    0     1  \n",
              "383    0     0  \n",
              "384    0     0  \n",
              "385    0     0  \n",
              "386    0     0  \n",
              "387    1     0  \n",
              "388    0     0  "
            ],
            "text/html": [
              "\n",
              "  <div id=\"df-1a4d75a2-601e-4ae8-ae7e-89ce566e2141\">\n",
              "    <div class=\"colab-df-container\">\n",
              "      <div>\n",
              "<style scoped>\n",
              "    .dataframe tbody tr th:only-of-type {\n",
              "        vertical-align: middle;\n",
              "    }\n",
              "\n",
              "    .dataframe tbody tr th {\n",
              "        vertical-align: top;\n",
              "    }\n",
              "\n",
              "    .dataframe thead th {\n",
              "        text-align: right;\n",
              "    }\n",
              "</style>\n",
              "<table border=\"1\" class=\"dataframe\">\n",
              "  <thead>\n",
              "    <tr style=\"text-align: right;\">\n",
              "      <th></th>\n",
              "      <th>title</th>\n",
              "      <th>num_comments</th>\n",
              "      <th>link</th>\n",
              "      <th>text</th>\n",
              "      <th>comments</th>\n",
              "      <th>toxicity</th>\n",
              "      <th>fem</th>\n",
              "      <th>masc</th>\n",
              "    </tr>\n",
              "  </thead>\n",
              "  <tbody>\n",
              "    <tr>\n",
              "      <th>369</th>\n",
              "      <td>Футбольный стадион «Бунёдкор» сменил название</td>\n",
              "      <td>0</td>\n",
              "      <td>https://uznews.uz/posts/24666</td>\n",
              "      <td>Расположенный в Чиланзарском районе футбольный...</td>\n",
              "      <td>[]</td>\n",
              "      <td>[0.0, 0.0]</td>\n",
              "      <td>0</td>\n",
              "      <td>0</td>\n",
              "    </tr>\n",
              "    <tr>\n",
              "      <th>370</th>\n",
              "      <td>Оксана Чусовитина завоевала «золото» Кубка выз...</td>\n",
              "      <td>0</td>\n",
              "      <td>https://uznews.uz/posts/43990</td>\n",
              "      <td>Чусовитина стала лучшей в опорном прыжке, набр...</td>\n",
              "      <td>[]</td>\n",
              "      <td>[0.0, 0.0]</td>\n",
              "      <td>0</td>\n",
              "      <td>0</td>\n",
              "    </tr>\n",
              "    <tr>\n",
              "      <th>371</th>\n",
              "      <td>Новым президентом Федерации легкой атлетики из...</td>\n",
              "      <td>0</td>\n",
              "      <td>https://uznews.uz/posts/50356</td>\n",
              "      <td>Нового руководителя федерации избрали в ходе в...</td>\n",
              "      <td>[]</td>\n",
              "      <td>[0.0, 0.0]</td>\n",
              "      <td>0</td>\n",
              "      <td>1</td>\n",
              "    </tr>\n",
              "    <tr>\n",
              "      <th>372</th>\n",
              "      <td>Ботир Парпиев покинул еще одну руководящую дол...</td>\n",
              "      <td>0</td>\n",
              "      <td>https://uznews.uz/posts/44804</td>\n",
              "      <td>19 мая в Национальном Олимпийском комитете Узб...</td>\n",
              "      <td>[]</td>\n",
              "      <td>[0.0, 0.0]</td>\n",
              "      <td>0</td>\n",
              "      <td>0</td>\n",
              "    </tr>\n",
              "    <tr>\n",
              "      <th>373</th>\n",
              "      <td>В Федерации каратэ Узбекистана избран новый пр...</td>\n",
              "      <td>0</td>\n",
              "      <td>https://uznews.uz/posts/45971</td>\n",
              "      <td>Сегодня, 16 мая, здании НОК Узбекистана состоя...</td>\n",
              "      <td>[]</td>\n",
              "      <td>[0.0, 0.0]</td>\n",
              "      <td>0</td>\n",
              "      <td>1</td>\n",
              "    </tr>\n",
              "    <tr>\n",
              "      <th>374</th>\n",
              "      <td>В Ташкенте пройдет велотур «Здоровая семья – б...</td>\n",
              "      <td>0</td>\n",
              "      <td>https://uznews.uz/posts/45296</td>\n",
              "      <td>Согласно правилам, в спортивном мероприятии мо...</td>\n",
              "      <td>[]</td>\n",
              "      <td>[0.0, 0.0]</td>\n",
              "      <td>0</td>\n",
              "      <td>0</td>\n",
              "    </tr>\n",
              "    <tr>\n",
              "      <th>375</th>\n",
              "      <td>Лига Чемпионов в Ташкенте</td>\n",
              "      <td>0</td>\n",
              "      <td>https://uznews.uz/posts/44305</td>\n",
              "      <td>Турнир организован среди воспитанников детской...</td>\n",
              "      <td>[]</td>\n",
              "      <td>[0.0, 0.0]</td>\n",
              "      <td>0</td>\n",
              "      <td>0</td>\n",
              "    </tr>\n",
              "    <tr>\n",
              "      <th>376</th>\n",
              "      <td>Временный глава AIBA Гафур Рахимов обратится в...</td>\n",
              "      <td>0</td>\n",
              "      <td>https://uznews.uz/posts/47311</td>\n",
              "      <td>Гафур Рахимов поручил своим адвокатам в Вашинг...</td>\n",
              "      <td>[]</td>\n",
              "      <td>[0.0, 0.0]</td>\n",
              "      <td>0</td>\n",
              "      <td>1</td>\n",
              "    </tr>\n",
              "    <tr>\n",
              "      <th>377</th>\n",
              "      <td>Новый антирекорд: Узбекистан потерял 16 позици...</td>\n",
              "      <td>0</td>\n",
              "      <td>https://uznews.uz/posts/52257</td>\n",
              "      <td>Согласно новому рейтингу, сборная Узбекистана ...</td>\n",
              "      <td>[]</td>\n",
              "      <td>[0.0, 0.0]</td>\n",
              "      <td>0</td>\n",
              "      <td>0</td>\n",
              "    </tr>\n",
              "    <tr>\n",
              "      <th>378</th>\n",
              "      <td>В Ташкенте открылась школа немецкого футбола F...</td>\n",
              "      <td>0</td>\n",
              "      <td>https://uznews.uz/posts/46732</td>\n",
              "      <td>В данной школе проводятся тренировки на высоко...</td>\n",
              "      <td>[]</td>\n",
              "      <td>[0.0, 0.0]</td>\n",
              "      <td>0</td>\n",
              "      <td>0</td>\n",
              "    </tr>\n",
              "    <tr>\n",
              "      <th>379</th>\n",
              "      <td>Двое шахматистов Узбекистана получили звание м...</td>\n",
              "      <td>0</td>\n",
              "      <td>https://uznews.uz/posts/47665</td>\n",
              "      <td>Как сообщает Федерация шахмат Узбекистана, все...</td>\n",
              "      <td>[]</td>\n",
              "      <td>[0.0, 0.0]</td>\n",
              "      <td>0</td>\n",
              "      <td>2</td>\n",
              "    </tr>\n",
              "    <tr>\n",
              "      <th>380</th>\n",
              "      <td>12-летняя шахматистка из Узбекистана стала Чем...</td>\n",
              "      <td>0</td>\n",
              "      <td>https://uznews.uz/posts/46017</td>\n",
              "      <td>8 апреля в Таиланде состоялся Чемпионат Азии п...</td>\n",
              "      <td>[]</td>\n",
              "      <td>[0.0, 0.0]</td>\n",
              "      <td>1</td>\n",
              "      <td>0</td>\n",
              "    </tr>\n",
              "    <tr>\n",
              "      <th>381</th>\n",
              "      <td>Заррина Абдуллаева избрана президентом Федерац...</td>\n",
              "      <td>0</td>\n",
              "      <td>https://uznews.uz/posts/43648</td>\n",
              "      <td>Сегодня, 4 апреля, в Национальном Олимпийском ...</td>\n",
              "      <td>[]</td>\n",
              "      <td>[0.0, 0.0]</td>\n",
              "      <td>0</td>\n",
              "      <td>1</td>\n",
              "    </tr>\n",
              "    <tr>\n",
              "      <th>382</th>\n",
              "      <td>Равшан Ирматов включен в список судей на Чемпи...</td>\n",
              "      <td>0</td>\n",
              "      <td>https://uznews.uz/posts/45438</td>\n",
              "      <td>Комитет судей ФИФА определил 36 судей и 63 пом...</td>\n",
              "      <td>[]</td>\n",
              "      <td>[0.0, 0.0]</td>\n",
              "      <td>0</td>\n",
              "      <td>1</td>\n",
              "    </tr>\n",
              "    <tr>\n",
              "      <th>383</th>\n",
              "      <td>В Ташкенте открылась профессиональная Академия...</td>\n",
              "      <td>0</td>\n",
              "      <td>https://uznews.uz/posts/44882</td>\n",
              "      <td>По словам основатель зала – профессионального ...</td>\n",
              "      <td>[]</td>\n",
              "      <td>[0.0, 0.0]</td>\n",
              "      <td>0</td>\n",
              "      <td>0</td>\n",
              "    </tr>\n",
              "    <tr>\n",
              "      <th>384</th>\n",
              "      <td>Фоторепортаж с веломарофона «Ташкент-Шымкент»</td>\n",
              "      <td>0</td>\n",
              "      <td>https://uznews.uz/posts/50231</td>\n",
              "      <td>Спортивное соревнование организовано Федерацие...</td>\n",
              "      <td>[]</td>\n",
              "      <td>[0.0, 0.0]</td>\n",
              "      <td>0</td>\n",
              "      <td>0</td>\n",
              "    </tr>\n",
              "    <tr>\n",
              "      <th>385</th>\n",
              "      <td>Оксана Чусовитина завоевала «золото» Кубка мир...</td>\n",
              "      <td>0</td>\n",
              "      <td>https://uznews.uz/posts/45969</td>\n",
              "      <td>Чусовитина стала лучшей в опорном прыжке, набр...</td>\n",
              "      <td>[]</td>\n",
              "      <td>[0.0, 0.0]</td>\n",
              "      <td>0</td>\n",
              "      <td>0</td>\n",
              "    </tr>\n",
              "    <tr>\n",
              "      <th>386</th>\n",
              "      <td>Обнародован новый рейтинг ФИФА: Какое место за...</td>\n",
              "      <td>0</td>\n",
              "      <td>https://uznews.uz/posts/47398</td>\n",
              "      <td>Согласно обновлённому рейтингу, сборная Узбеки...</td>\n",
              "      <td>[]</td>\n",
              "      <td>[0.0, 0.0]</td>\n",
              "      <td>0</td>\n",
              "      <td>0</td>\n",
              "    </tr>\n",
              "    <tr>\n",
              "      <th>387</th>\n",
              "      <td>Узбекская шахматистка завоевала первое место н...</td>\n",
              "      <td>0</td>\n",
              "      <td>https://uznews.uz/posts/50600</td>\n",
              "      <td>Международный круговой турнир проходил при уча...</td>\n",
              "      <td>[]</td>\n",
              "      <td>[0.0, 0.0]</td>\n",
              "      <td>1</td>\n",
              "      <td>0</td>\n",
              "    </tr>\n",
              "    <tr>\n",
              "      <th>388</th>\n",
              "      <td>В Узбекистане создается федерация ММА</td>\n",
              "      <td>0</td>\n",
              "      <td>https://uznews.uz/posts/52093</td>\n",
              "      <td>6 марта, в музее Олимпийской славы в Ташкенте ...</td>\n",
              "      <td>[]</td>\n",
              "      <td>[0.0, 0.0]</td>\n",
              "      <td>0</td>\n",
              "      <td>0</td>\n",
              "    </tr>\n",
              "  </tbody>\n",
              "</table>\n",
              "</div>\n",
              "      <button class=\"colab-df-convert\" onclick=\"convertToInteractive('df-1a4d75a2-601e-4ae8-ae7e-89ce566e2141')\"\n",
              "              title=\"Convert this dataframe to an interactive table.\"\n",
              "              style=\"display:none;\">\n",
              "        \n",
              "  <svg xmlns=\"http://www.w3.org/2000/svg\" height=\"24px\"viewBox=\"0 0 24 24\"\n",
              "       width=\"24px\">\n",
              "    <path d=\"M0 0h24v24H0V0z\" fill=\"none\"/>\n",
              "    <path d=\"M18.56 5.44l.94 2.06.94-2.06 2.06-.94-2.06-.94-.94-2.06-.94 2.06-2.06.94zm-11 1L8.5 8.5l.94-2.06 2.06-.94-2.06-.94L8.5 2.5l-.94 2.06-2.06.94zm10 10l.94 2.06.94-2.06 2.06-.94-2.06-.94-.94-2.06-.94 2.06-2.06.94z\"/><path d=\"M17.41 7.96l-1.37-1.37c-.4-.4-.92-.59-1.43-.59-.52 0-1.04.2-1.43.59L10.3 9.45l-7.72 7.72c-.78.78-.78 2.05 0 2.83L4 21.41c.39.39.9.59 1.41.59.51 0 1.02-.2 1.41-.59l7.78-7.78 2.81-2.81c.8-.78.8-2.07 0-2.86zM5.41 20L4 18.59l7.72-7.72 1.47 1.35L5.41 20z\"/>\n",
              "  </svg>\n",
              "      </button>\n",
              "      \n",
              "  <style>\n",
              "    .colab-df-container {\n",
              "      display:flex;\n",
              "      flex-wrap:wrap;\n",
              "      gap: 12px;\n",
              "    }\n",
              "\n",
              "    .colab-df-convert {\n",
              "      background-color: #E8F0FE;\n",
              "      border: none;\n",
              "      border-radius: 50%;\n",
              "      cursor: pointer;\n",
              "      display: none;\n",
              "      fill: #1967D2;\n",
              "      height: 32px;\n",
              "      padding: 0 0 0 0;\n",
              "      width: 32px;\n",
              "    }\n",
              "\n",
              "    .colab-df-convert:hover {\n",
              "      background-color: #E2EBFA;\n",
              "      box-shadow: 0px 1px 2px rgba(60, 64, 67, 0.3), 0px 1px 3px 1px rgba(60, 64, 67, 0.15);\n",
              "      fill: #174EA6;\n",
              "    }\n",
              "\n",
              "    [theme=dark] .colab-df-convert {\n",
              "      background-color: #3B4455;\n",
              "      fill: #D2E3FC;\n",
              "    }\n",
              "\n",
              "    [theme=dark] .colab-df-convert:hover {\n",
              "      background-color: #434B5C;\n",
              "      box-shadow: 0px 1px 3px 1px rgba(0, 0, 0, 0.15);\n",
              "      filter: drop-shadow(0px 1px 2px rgba(0, 0, 0, 0.3));\n",
              "      fill: #FFFFFF;\n",
              "    }\n",
              "  </style>\n",
              "\n",
              "      <script>\n",
              "        const buttonEl =\n",
              "          document.querySelector('#df-1a4d75a2-601e-4ae8-ae7e-89ce566e2141 button.colab-df-convert');\n",
              "        buttonEl.style.display =\n",
              "          google.colab.kernel.accessAllowed ? 'block' : 'none';\n",
              "\n",
              "        async function convertToInteractive(key) {\n",
              "          const element = document.querySelector('#df-1a4d75a2-601e-4ae8-ae7e-89ce566e2141');\n",
              "          const dataTable =\n",
              "            await google.colab.kernel.invokeFunction('convertToInteractive',\n",
              "                                                     [key], {});\n",
              "          if (!dataTable) return;\n",
              "\n",
              "          const docLinkHtml = 'Like what you see? Visit the ' +\n",
              "            '<a target=\"_blank\" href=https://colab.research.google.com/notebooks/data_table.ipynb>data table notebook</a>'\n",
              "            + ' to learn more about interactive tables.';\n",
              "          element.innerHTML = '';\n",
              "          dataTable['output_type'] = 'display_data';\n",
              "          await google.colab.output.renderOutput(dataTable, element);\n",
              "          const docLink = document.createElement('div');\n",
              "          docLink.innerHTML = docLinkHtml;\n",
              "          element.appendChild(docLink);\n",
              "        }\n",
              "      </script>\n",
              "    </div>\n",
              "  </div>\n",
              "  "
            ]
          },
          "metadata": {},
          "execution_count": 118
        }
      ]
    },
    {
      "cell_type": "code",
      "source": [
        "df.to_csv('sport_toxic.csv', index=False)"
      ],
      "metadata": {
        "id": "Ze6m9QQQXvTH"
      },
      "execution_count": 119,
      "outputs": []
    },
    {
      "cell_type": "markdown",
      "source": [
        "# Проверка гипотез для готовых датасетов "
      ],
      "metadata": {
        "id": "wOiz-9mxZkhM"
      }
    },
    {
      "cell_type": "code",
      "source": [
        "df = pd.read_csv('proissestviya_toxic.csv')\n",
        "df['comments'] = df['comments'].apply(ast.literal_eval)\n",
        "df['toxicity'] = df['toxicity'].apply(ast.literal_eval)\n",
        "\n",
        "df_women = df.loc[(df['fem'] > 0) & (df['masc'] == 0)]\n",
        "toxicities = []\n",
        "for toxicity in df_women['toxicity'].to_numpy():\n",
        "  toxicities.append(toxicity)\n",
        "\n",
        "avg_toxicity = np.average(toxicities, axis=0)\n",
        "print(avg_toxicity)\n",
        "\n",
        "df_women = df.loc[(df['fem'] > 0)]\n",
        "toxicities = []\n",
        "for toxicity in df_women['toxicity'].to_numpy():\n",
        "  toxicities.append(toxicity)\n",
        "avg_toxicity = np.average(toxicities, axis=0)\n",
        "print(avg_toxicity)\n",
        "\n",
        "df_man = df.loc[(df['masc'] > 0) & (df['fem'] == 0)]\n",
        "toxicities = []\n",
        "for toxicity in df_man['toxicity'].to_numpy():\n",
        "  toxicities.append(toxicity)\n",
        "avg_toxicity = np.average(toxicities, axis=0)\n",
        "print(avg_toxicity)\n",
        "\n",
        "df_man = df.loc[(df['masc'] > 0)]\n",
        "toxicities = []\n",
        "for toxicity in df_man['toxicity'].to_numpy():\n",
        "  toxicities.append(toxicity)\n",
        "avg_toxicity = np.average(toxicities, axis=0)\n",
        "print(avg_toxicity)"
      ],
      "metadata": {
        "colab": {
          "base_uri": "https://localhost:8080/"
        },
        "id": "11qsIV9iUwlk",
        "outputId": "9e27f06a-c8f4-4285-daf2-d079dc263024"
      },
      "execution_count": 76,
      "outputs": [
        {
          "output_type": "stream",
          "name": "stdout",
          "text": [
            "[0.54912204 0.36754463]\n",
            "[0.52718474 0.40138669]\n",
            "[0.48815319 0.32804618]\n",
            "[0.4896668  0.33850221]\n"
          ]
        }
      ]
    },
    {
      "cell_type": "code",
      "source": [
        "df = pd.read_csv('obshhestvo_toxic.csv')\n",
        "df['comments'] = df['comments'].apply(ast.literal_eval)\n",
        "df['toxicity'] = df['toxicity'].apply(ast.literal_eval)\n",
        "\n",
        "df_women = df.loc[(df['fem'] > 0) & (df['masc'] == 0)]\n",
        "toxicities = []\n",
        "for toxicity in df_women['toxicity'].to_numpy():\n",
        "  toxicities.append(toxicity)\n",
        "avg_toxicity = np.average(toxicities, axis=0)\n",
        "print(avg_toxicity)\n",
        "\n",
        "df_women = df.loc[(df['fem'] > 0)]\n",
        "toxicities = []\n",
        "for toxicity in df_women['toxicity'].to_numpy():\n",
        "  toxicities.append(toxicity)\n",
        "avg_toxicity = np.average(toxicities, axis=0)\n",
        "print(avg_toxicity)\n",
        "\n",
        "df_man = df.loc[(df['masc'] > 0) & (df['fem'] == 0)]\n",
        "toxicities = []\n",
        "for toxicity in df_man['toxicity'].to_numpy():\n",
        "  toxicities.append(toxicity)\n",
        "avg_toxicity = np.average(toxicities, axis=0)\n",
        "print(avg_toxicity)\n",
        "\n",
        "df_man = df.loc[(df['masc'] > 0)]\n",
        "toxicities = []\n",
        "for toxicity in df_man['toxicity'].to_numpy():\n",
        "  toxicities.append(toxicity)\n",
        "avg_toxicity = np.average(toxicities, axis=0)\n",
        "print(avg_toxicity)\n"
      ],
      "metadata": {
        "colab": {
          "base_uri": "https://localhost:8080/"
        },
        "id": "L5PyA3CuW58-",
        "outputId": "8a3116c8-da3f-4abb-9131-c25f4743082d"
      },
      "execution_count": 46,
      "outputs": [
        {
          "output_type": "stream",
          "name": "stdout",
          "text": [
            "[0.68288407 0.28933816]\n",
            "[0.65336104 0.30817741]\n",
            "[0.58824862 0.28146969]\n",
            "[0.59337713 0.28699097]\n"
          ]
        }
      ]
    },
    {
      "cell_type": "code",
      "source": [
        "df = pd.read_csv('kriminal_toxic.csv')\n",
        "df['comments'] = df['comments'].apply(ast.literal_eval)\n",
        "df['toxicity'] = df['toxicity'].apply(ast.literal_eval)\n",
        "\n",
        "df_women = df.loc[(df['fem'] > 0) & (df['masc'] == 0)]\n",
        "toxicities = []\n",
        "for toxicity in df_women['toxicity'].to_numpy():\n",
        "  toxicities.append(toxicity)\n",
        "avg_toxicity = np.average(toxicities, axis=0)\n",
        "print(avg_toxicity)\n",
        "\n",
        "df_women = df.loc[(df['fem'] > 0)]\n",
        "toxicities = []\n",
        "for toxicity in df_women['toxicity'].to_numpy():\n",
        "  toxicities.append(toxicity)\n",
        "avg_toxicity = np.average(toxicities, axis=0)\n",
        "print(avg_toxicity)\n",
        "\n",
        "df_man = df.loc[(df['masc'] > 0) & (df['fem'] == 0)]\n",
        "toxicities = []\n",
        "for toxicity in df_man['toxicity'].to_numpy():\n",
        "  toxicities.append(toxicity)\n",
        "avg_toxicity = np.average(toxicities, axis=0)\n",
        "print(avg_toxicity)\n",
        "\n",
        "df_man = df.loc[(df['masc'] > 0)]\n",
        "toxicities = []\n",
        "for toxicity in df_man['toxicity'].to_numpy():\n",
        "  toxicities.append(toxicity)\n",
        "avg_toxicity = np.average(toxicities, axis=0)\n",
        "print(avg_toxicity)"
      ],
      "metadata": {
        "colab": {
          "base_uri": "https://localhost:8080/"
        },
        "id": "Jb9K4i9hc0oc",
        "outputId": "89f28f21-acb9-4ba9-f1ee-e9abd8eca77b"
      },
      "execution_count": 58,
      "outputs": [
        {
          "output_type": "stream",
          "name": "stdout",
          "text": [
            "[0.57448756 0.36099631]\n",
            "[0.50980983 0.47233302]\n",
            "[0.54545626 0.33721041]\n",
            "[0.53472737 0.3687814 ]\n"
          ]
        }
      ]
    },
    {
      "cell_type": "code",
      "source": [
        "df = pd.read_csv('naznaceniya_toxic.csv')\n",
        "df['comments'] = df['comments'].apply(ast.literal_eval)\n",
        "df['toxicity'] = df['toxicity'].apply(ast.literal_eval)\n",
        "\n",
        "df_women = df.loc[(df['fem'] > 0) & (df['masc'] == 0)]\n",
        "toxicities = []\n",
        "for toxicity in df_women['toxicity'].to_numpy():\n",
        "  toxicities.append(toxicity)\n",
        "avg_toxicity = np.average(toxicities, axis=0)\n",
        "print(toxicities)\n",
        "print(avg_toxicity)\n",
        "\n",
        "df_women = df.loc[(df['fem'] > 0)]\n",
        "toxicities = []\n",
        "for toxicity in df_women['toxicity'].to_numpy():\n",
        "  toxicities.append(toxicity)\n",
        "avg_toxicity = np.average(toxicities, axis=0)\n",
        "print(avg_toxicity)\n",
        "\n",
        "df_man = df.loc[(df['masc'] > 0) & (df['fem'] == 0)]\n",
        "toxicities = []\n",
        "for toxicity in df_man['toxicity'].to_numpy():\n",
        "  toxicities.append(toxicity)\n",
        "avg_toxicity = np.average(toxicities, axis=0)\n",
        "print(avg_toxicity)\n",
        "\n",
        "df_man = df.loc[(df['masc'] > 0)]\n",
        "toxicities = []\n",
        "for toxicity in df_man['toxicity'].to_numpy():\n",
        "  toxicities.append(toxicity)\n",
        "avg_toxicity = np.average(toxicities, axis=0)\n",
        "print(avg_toxicity)"
      ],
      "metadata": {
        "colab": {
          "base_uri": "https://localhost:8080/"
        },
        "id": "AZqLlAHMkcci",
        "outputId": "ee3e4f8a-cb26-4eec-f391-299065be7c85"
      },
      "execution_count": 78,
      "outputs": [
        {
          "output_type": "stream",
          "name": "stdout",
          "text": [
            "[]\n",
            "nan\n",
            "[0.67200871 0.32799129]\n",
            "[0.36912364 0.21129594]\n",
            "[0.37226778 0.21250731]\n"
          ]
        },
        {
          "output_type": "stream",
          "name": "stderr",
          "text": [
            "/usr/local/lib/python3.7/dist-packages/numpy/lib/function_base.py:380: RuntimeWarning: Mean of empty slice.\n",
            "  avg = a.mean(axis)\n",
            "/usr/local/lib/python3.7/dist-packages/numpy/core/_methods.py:189: RuntimeWarning: invalid value encountered in double_scalars\n",
            "  ret = ret.dtype.type(ret / rcount)\n"
          ]
        }
      ]
    },
    {
      "cell_type": "code",
      "source": [
        "df = pd.read_csv('sport_toxic.csv')\n",
        "df['comments'] = df['comments'].apply(ast.literal_eval)\n",
        "df['toxicity'] = df['toxicity'].apply(ast.literal_eval)\n",
        "\n",
        "df_women = df.loc[(df['fem'] > 0) & (df['masc'] == 0)]\n",
        "toxicities = []\n",
        "for toxicity in df_women['toxicity'].to_numpy():\n",
        "  toxicities.append(toxicity)\n",
        "avg_toxicity = np.average(toxicities, axis=0)\n",
        "print(toxicities)\n",
        "print(avg_toxicity)\n",
        "\n",
        "df_women = df.loc[(df['fem'] > 0)]\n",
        "toxicities = []\n",
        "for toxicity in df_women['toxicity'].to_numpy():\n",
        "  toxicities.append(toxicity)\n",
        "avg_toxicity = np.average(toxicities, axis=0)\n",
        "print(avg_toxicity)\n",
        "\n",
        "df_man = df.loc[(df['masc'] > 0) & (df['fem'] == 0)]\n",
        "toxicities = []\n",
        "for toxicity in df_man['toxicity'].to_numpy():\n",
        "  toxicities.append(toxicity)\n",
        "avg_toxicity = np.average(toxicities, axis=0)\n",
        "print(avg_toxicity)\n",
        "\n",
        "df_man = df.loc[(df['masc'] > 0)]\n",
        "toxicities = []\n",
        "for toxicity in df_man['toxicity'].to_numpy():\n",
        "  toxicities.append(toxicity)\n",
        "avg_toxicity = np.average(toxicities, axis=0)\n",
        "print(avg_toxicity)"
      ],
      "metadata": {
        "colab": {
          "base_uri": "https://localhost:8080/"
        },
        "id": "lKZCS6GetfOE",
        "outputId": "72621fe8-9d53-44b1-a684-e70a88b02160"
      },
      "execution_count": 120,
      "outputs": [
        {
          "output_type": "stream",
          "name": "stdout",
          "text": [
            "[[0.89578754, 0.104212485], [0.37999707, 0.62000287], [0.0, 0.0], [0.33180463, 0.6681954], [0.84288245, 0.15711747], [0.23181006, 0.76818997], [0.7599216, 0.24007837], [0.3890935, 0.6109065], [0.62619245, 0.37380755], [0.60097766, 0.3990223], [0.17508464, 0.82491535], [0.0, 0.0], [0.0, 0.0], [0.72025347, 0.2797465], [0.0, 0.0], [0.9852128, 0.014787147], [0.0, 0.0], [0.0, 0.0], [0.0, 0.0], [0.0, 0.0], [0.0, 0.0]]\n",
            "[0.33042942 0.24099914]\n",
            "[0.32760142 0.26330766]\n",
            "[0.33803178 0.20497898]\n",
            "[0.33765842 0.20779613]\n"
          ]
        }
      ]
    },
    {
      "cell_type": "markdown",
      "source": [
        "# Viz"
      ],
      "metadata": {
        "id": "htETphAHd0XR"
      }
    },
    {
      "cell_type": "code",
      "source": [
        "import matplotlib.pyplot as plt\n",
        "import numpy as np\n",
        "from nltk.corpus import stopwords\n",
        "from nltk.stem import WordNetLemmatizer,PorterStemmer\n",
        "from nltk.tokenize import word_tokenize\n",
        "from wordcloud import WordCloud, STOPWORDS\n",
        "import nltk\n",
        "\n",
        "df = pd.read_csv('kriminal_toxic.csv')\n",
        "df['comments'] = df['comments'].apply(ast.literal_eval)\n",
        "df['toxicity'] = df['toxicity'].apply(ast.literal_eval)\n",
        "\n",
        "def plot_wordcloud(text):\n",
        "    nltk.download('stopwords')\n",
        "    stop=set(stopwords.words('russian'))   \n",
        "    \n",
        "    wordcloud = WordCloud(\n",
        "        background_color='white',\n",
        "        stopwords=set(STOPWORDS),\n",
        "        max_words=200,\n",
        "        max_font_size=30, \n",
        "        scale=3,\n",
        "        random_state=1)\n",
        "    \n",
        "    wordcloud=wordcloud.generate(str(text))\n",
        "\n",
        "    fig = plt.figure(1, figsize=(12, 12))\n",
        "    plt.axis('off')\n",
        " \n",
        "    plt.imshow(wordcloud)\n",
        "    plt.show()\n",
        "\n",
        "df_women = df.loc[(df['masc'] == 0) & (df['fem'] == 0)]\n",
        "df_women['comments_text'] = df_women['comments'].apply(' '.join)\n",
        "\n",
        "\n",
        "plot_wordcloud(df_women['comments_text'])"
      ],
      "metadata": {
        "colab": {
          "base_uri": "https://localhost:8080/",
          "height": 495
        },
        "id": "Qe65LVuzdz17",
        "outputId": "177ac2c6-ea83-42b6-d8bb-828b5557cd5c"
      },
      "execution_count": 66,
      "outputs": [
        {
          "output_type": "stream",
          "name": "stderr",
          "text": [
            "/usr/local/lib/python3.7/dist-packages/ipykernel_launcher.py:30: SettingWithCopyWarning: \n",
            "A value is trying to be set on a copy of a slice from a DataFrame.\n",
            "Try using .loc[row_indexer,col_indexer] = value instead\n",
            "\n",
            "See the caveats in the documentation: https://pandas.pydata.org/pandas-docs/stable/user_guide/indexing.html#returning-a-view-versus-a-copy\n"
          ]
        },
        {
          "output_type": "stream",
          "name": "stdout",
          "text": [
            "[nltk_data] Downloading package stopwords to /root/nltk_data...\n",
            "[nltk_data]   Package stopwords is already up-to-date!\n"
          ]
        },
        {
          "output_type": "display_data",
          "data": {
            "text/plain": [
              "<Figure size 864x864 with 1 Axes>"
            ],
            "image/png": "[encoded data removed]"
          },
          "metadata": {
            "needs_background": "light"
          }
        }
      ]
    },
    {
      "cell_type": "code",
      "source": [
        "!pip install pyLDAvis"
      ],
      "metadata": {
        "id": "-__wqNDzmOV9"
      },
      "execution_count": null,
      "outputs": []
    },
    {
      "cell_type": "code",
      "source": [
        "!pip install --upgrade gensim"
      ],
      "metadata": {
        "colab": {
          "base_uri": "https://localhost:8080/",
          "height": 346
        },
        "id": "_Dl6q8xTpDIz",
        "outputId": "92ff01d4-4cdc-4e39-dbf5-efa973169ed4"
      },
      "execution_count": 93,
      "outputs": [
        {
          "output_type": "stream",
          "name": "stdout",
          "text": [
            "Requirement already satisfied: gensim in /usr/local/lib/python3.7/dist-packages (3.6.0)\n",
            "Collecting gensim\n",
            "  Downloading gensim-4.1.2-cp37-cp37m-manylinux_2_12_x86_64.manylinux2010_x86_64.whl (24.1 MB)\n",
            "\u001b[K     |████████████████████████████████| 24.1 MB 10.6 MB/s \n",
            "\u001b[?25hRequirement already satisfied: numpy>=1.17.0 in /usr/local/lib/python3.7/dist-packages (from gensim) (1.21.5)\n",
            "Requirement already satisfied: scipy>=0.18.1 in /usr/local/lib/python3.7/dist-packages (from gensim) (1.4.1)\n",
            "Requirement already satisfied: smart-open>=1.8.1 in /usr/local/lib/python3.7/dist-packages (from gensim) (5.2.1)\n",
            "Installing collected packages: gensim\n",
            "  Attempting uninstall: gensim\n",
            "    Found existing installation: gensim 3.6.0\n",
            "    Uninstalling gensim-3.6.0:\n",
            "      Successfully uninstalled gensim-3.6.0\n",
            "Successfully installed gensim-4.1.2\n"
          ]
        },
        {
          "output_type": "display_data",
          "data": {
            "application/vnd.colab-display-data+json": {
              "pip_warning": {
                "packages": [
                  "gensim"
                ]
              }
            }
          },
          "metadata": {}
        }
      ]
    },
    {
      "cell_type": "code",
      "source": [
        "nltk.download('punkt')"
      ],
      "metadata": {
        "colab": {
          "base_uri": "https://localhost:8080/"
        },
        "id": "J2CncXM1pvIr",
        "outputId": "050123d4-9cd2-4380-e184-efaff894b659"
      },
      "execution_count": 101,
      "outputs": [
        {
          "output_type": "stream",
          "name": "stdout",
          "text": [
            "[nltk_data] Downloading package punkt to /root/nltk_data...\n",
            "[nltk_data]   Unzipping tokenizers/punkt.zip.\n"
          ]
        },
        {
          "output_type": "execute_result",
          "data": {
            "text/plain": [
              "True"
            ]
          },
          "metadata": {},
          "execution_count": 101
        }
      ]
    },
    {
      "cell_type": "code",
      "source": [
        "import numpy as np\n",
        "import nltk\n",
        "from nltk.corpus import stopwords\n",
        "import gensim\n",
        "from nltk.stem import WordNetLemmatizer,PorterStemmer\n",
        "from nltk.tokenize import word_tokenize\n",
        "import pyLDAvis.gensim_models\n",
        "\n",
        "\n",
        "letters = set('абвгдеёжзийклмнопрстуфхцчшщъыьэюя')\n",
        "\n",
        "stop=set(stopwords.words('russian'))\n",
        "print(stop)\n",
        "\n",
        "def get_lda_objects(text):\n",
        "    nltk.download('stopwords')    \n",
        "    stop=set(stopwords.words('russian'))\n",
        "\n",
        "    def _preprocess_text(text): \n",
        "        corpus=[]       \n",
        "        for news in text:\n",
        "            words=[w for w in word_tokenize(news) if (w.lower() not in stop) and (all(np.array([char in letters for char in w.lower()])))]\n",
        "            corpus.append(words)\n",
        "        return corpus\n",
        "    \n",
        "    text=_preprocess_text(text)\n",
        "\n",
        "    #text = [d.split() for d in text]\n",
        "    dic=gensim.corpora.Dictionary(text)\n",
        "    bow_corpus = [dic.doc2bow(doc) for doc in text]\n",
        "    \n",
        "    lda_model =  gensim.models.LdaMulticore(bow_corpus, \n",
        "                                   num_topics = 4, \n",
        "                                   id2word = dic,                                    \n",
        "                                   passes = 10,\n",
        "                                   workers = 2)\n",
        "    \n",
        "    return lda_model, bow_corpus, dic\n",
        "\n",
        "def plot_lda_vis(lda_model, bow_corpus, dic):\n",
        "    pyLDAvis.enable_notebook()\n",
        "    vis = pyLDAvis.gensim_models.prepare(lda_model, bow_corpus, dic)\n",
        "    return vis"
      ],
      "metadata": {
        "colab": {
          "base_uri": "https://localhost:8080/"
        },
        "id": "K1tcfec8mNkj",
        "outputId": "d235f9e0-6785-46c6-eb86-86cf1350c958"
      },
      "execution_count": 114,
      "outputs": [
        {
          "output_type": "stream",
          "name": "stdout",
          "text": [
            "{'меня', 'всех', 'какая', 'как', 'из', 'от', 'здесь', 'им', 'об', 'хоть', 'уже', 'один', 'их', 'какой', 'или', 'после', 'них', 'нибудь', 'ничего', 'когда', 'конечно', 'всегда', 'опять', 'то', 'будто', 'ж', 'тебя', 'он', 'другой', 'куда', 'вы', 'тот', 'хорошо', 'вдруг', 'до', 'будет', 'разве', 'перед', 'ее', 'нее', 'еще', 'надо', 'если', 'ни', 'больше', 'было', 'зачем', 'за', 'во', 'ей', 'без', 'но', 'где', 'иногда', 'вот', 'при', 'моя', 'никогда', 'себя', 'между', 'потому', 'и', 'а', 'нет', 'чего', 'ним', 'быть', 'того', 'лучше', 'свою', 'тогда', 'сам', 'сейчас', 'мой', 'нельзя', 'ней', 'много', 'этот', 'нас', 'есть', 'раз', 'бы', 'тут', 'под', 'кто', 'тем', 'три', 'у', 'со', 'чтобы', 'чем', 'да', 'только', 'ну', 'чуть', 'всю', 'мы', 'вам', 'была', 'потом', 'теперь', 'себе', 'почти', 'том', 'к', 'два', 'ведь', 'более', 'все', 'даже', 'него', 'вас', 'можно', 'тоже', 'через', 'этого', 'его', 'такой', 'в', 'может', 'уж', 'про', 'что', 'они', 'впрочем', 'этой', 'не', 'с', 'эти', 'для', 'так', 'ли', 'над', 'мне', 'совсем', 'наконец', 'были', 'был', 'этом', 'всего', 'она', 'я', 'ему', 'там', 'чтоб', 'на', 'эту', 'по', 'о', 'ты', 'же'}\n"
          ]
        }
      ]
    },
    {
      "cell_type": "code",
      "source": [
        "df = pd.read_csv('kriminal_toxic.csv')\n",
        "df['comments'] = df['comments'].apply(ast.literal_eval)\n",
        "df['toxicity'] = df['toxicity'].apply(ast.literal_eval)\n",
        "\n",
        "df_women = df.loc[(df['masc'] == 0) & (df['fem'] == 0)]\n",
        "df_women['comments_text'] = df_women['comments'].apply(' '.join)\n",
        "\n",
        "\n",
        "\n",
        "lda_model, bow_corpus, dic = get_lda_objects(df_women['comments_text'])"
      ],
      "metadata": {
        "id": "hhU-oGH5my_A"
      },
      "execution_count": null,
      "outputs": []
    },
    {
      "cell_type": "code",
      "source": [
        "plot_lda_vis(lda_model, bow_corpus, dic)"
      ],
      "metadata": {
        "colab": {
          "base_uri": "https://localhost:8080/",
          "height": 917
        },
        "id": "Y0ZqgSQ_nUCr",
        "outputId": "13f7f881-6b38-4fdc-9e05-b3fdc4d4a3a5"
      },
      "execution_count": 113,
      "outputs": [
        {
          "output_type": "stream",
          "name": "stderr",
          "text": [
            "/usr/local/lib/python3.7/dist-packages/pyLDAvis/_prepare.py:247: FutureWarning: In a future version of pandas all arguments of DataFrame.drop except for the argument 'labels' will be keyword-only\n",
            "  by='saliency', ascending=False).head(R).drop('saliency', 1)\n"
          ]
        },
        {
          "output_type": "execute_result",
          "data": {
            "text/plain": [
              "PreparedData(topic_coordinates=              x         y  topics  cluster       Freq\n",
              "topic                                                \n",
              "1      0.117534  0.034333       1        1  34.369466\n",
              "3     -0.076667  0.086406       2        1  27.299560\n",
              "2     -0.024970 -0.073824       3        1  19.582706\n",
              "0     -0.015897 -0.046916       4        1  18.748267, topic_info=          Term       Freq      Total Category  logprob  loglift\n",
              "9          всё  10.000000  10.000000  Default  30.0000  30.0000\n",
              "958     работу   4.000000   4.000000  Default  29.0000  29.0000\n",
              "3381        ва   2.000000   2.000000  Default  28.0000  28.0000\n",
              "436    которые   6.000000   6.000000  Default  27.0000  27.0000\n",
              "164       мясо   3.000000   3.000000  Default  26.0000  26.0000\n",
              "...        ...        ...        ...      ...      ...      ...\n",
              "1194       СГБ   1.143552   2.706006   Topic4  -6.6765   0.8127\n",
              "971   спокойно   1.143012   2.706174   Topic4  -6.6769   0.8122\n",
              "514    сказать   1.142851   4.690847   Topic4  -6.6771   0.2620\n",
              "995       дали   1.141535   4.143574   Topic4  -6.6782   0.3849\n",
              "234       след   1.141391   2.239419   Topic4  -6.6784   1.0001\n",
              "\n",
              "[247 rows x 6 columns], token_table=      Topic      Freq     Term\n",
              "term                          \n",
              "1955      4  0.630221   Аптека\n",
              "3287      3  0.621241    ВЗЯли\n",
              "2944      3  0.472107      ВОР\n",
              "2944      4  0.472107      ВОР\n",
              "3348      3  0.621293  Главаря\n",
              "...     ...       ...      ...\n",
              "274       1  0.361291      это\n",
              "274       2  0.301075      это\n",
              "274       3  0.180645      это\n",
              "274       4  0.180645      это\n",
              "2408      1  0.791552    якобы\n",
              "\n",
              "[331 rows x 3 columns], R=30, lambda_step=0.01, plot_opts={'xlab': 'PC1', 'ylab': 'PC2'}, topic_order=[2, 4, 3, 1])"
            ],
            "text/html": [
              "\n",
              "<link rel=\"stylesheet\" type=\"text/css\" href=\"https://cdn.jsdelivr.net/gh/bmabey/pyLDAvis@3.3.1/pyLDAvis/js/ldavis.v1.0.0.css\">\n",
              "\n",
              "\n",
              "<div id=\"ldavis_el711403502959938086907142270\"></div>\n",
              "<script type=\"text/javascript\">\n",
              "\n",
              "var ldavis_el711403502959938086907142270_data = {\"mdsDat\": {\"x\": [0.11753417531346291, -0.07666740364326399, -0.024969785363269218, -0.01589698630692972], \"y\": [0.034333409502431404, 0.08640609529495169, -0.0738237180191075, -0.04691578677827556], \"topics\": [1, 2, 3, 4], \"cluster\": [1, 1, 1, 1], \"Freq\": [34.369466239795344, 27.299560291004354, 19.58270617743783, 18.74826729176247]}, \"tinfo\": {\"Term\": [\"\\u0432\\u0441\\u0451\", \"\\u0440\\u0430\\u0431\\u043e\\u0442\\u0443\", \"\\u0432\\u0430\", \"\\u043a\\u043e\\u0442\\u043e\\u0440\\u044b\\u0435\", \"\\u043c\\u044f\\u0441\\u043e\", \"\\u0441\\u0432\\u043e\\u0438\", \"\\u0442\\u0430\\u043a\\u0430\\u044f\", \"\\u0445\\u043b\\u043e\\u043f\\u043d\\u0443\\u043b\\u0438\", \"\\u0441\\u0440\\u0430\\u0437\\u0443\", \"\\u0431\\u0430\\u043d\\u043a\\u0443\", \"\\u043e\\u0447\\u0435\\u043d\\u044c\", \"\\u0421\\u0438\\u0440\\u0438\\u0438\", \"\\u0442\\u0443\\u043f\\u043e\", \"\\u0438\\u044e\\u043b\\u044f\", \"\\u0434\\u0430\\u0432\\u043b\\u0430\\u0442\", \"\\u0431\\u0434\\u0438\\u0442\\u0435\\u043b\\u044c\\u043d\\u044b\", \"\\u041c\\u0412\\u0414\", \"\\u0442\\u0430\\u043a\\u0438\\u043c\", \"\\u0440\\u0430\\u0431\\u043e\\u0442\\u0430\\u0442\\u044c\", \"\\u0437\\u0430\\u043d\\u0438\\u043c\\u0430\\u044e\\u0442\\u0441\\u044f\", \"\\u0425\\u043e\\u0442\\u044f\", \"\\u0434\\u0440\\u0443\\u0433\\u043e\\u043c\\u0443\", \"\\u0442\\u0430\\u043a\\u0438\\u0435\", \"\\u0434\\u043e\\u043b\\u043b\\u0430\\u0440\\u043e\\u0432\", \"\\u043d\\u0438\\u043a\\u0442\\u043e\", \"\\u043f\\u0440\\u043e\\u0442\\u0438\\u0432\", \"\\u0446\\u0435\\u043d\\u044b\", \"\\u043f\\u043e\\u043a\\u0430\", \"\\u043b\\u044e\\u0434\\u0438\", \"\\u041f\\u043e\\u0447\\u0435\\u043c\\u0443\", \"\\u0431\\u0434\\u0438\\u0442\\u0435\\u043b\\u044c\\u043d\\u044b\", \"\\u043c\\u043e\\u0448\\u0435\\u043d\\u043d\\u0438\\u0447\\u0435\\u0441\\u0442\\u0432\\u043e\", \"\\u0434\\u0430\\u0432\\u043d\\u043e\", \"\\u043e\\u0441\\u043e\\u0431\\u0435\\u043d\\u043d\\u043e\", \"\\u0438\\u0445\\u043d\\u0438\\u0435\", \"\\u043a\\u0443\\u043f\\u0438\\u0442\\u044c\", \"\\u0441\\u043c\\u0441\\u043a\\u0438\", \"\\u0441\\u043e\\u043e\\u0431\\u0449\\u0438\\u0442\\u044c\", \"\\u0445\\u043e\\u0442\\u0435\\u043b\", \"\\u043b\\u0438\\u0446\\u043e\", \"\\u0442\\u0435\\u043c\\u0435\", \"\\u0434\\u0430\\u0447\\u0430\", \"\\u0441\\u0443\\u043c\\u043c\\u0430\", \"\\u0440\\u0435\\u0446\\u0438\\u0434\\u0438\\u0432\\u0438\\u0441\\u0442\\u044b\", \"\\u0443\\u0439\\u0434\\u0443\\u0442\", \"\\u0421\\u0430\\u043c\\u0438\", \"\\u044f\\u043a\\u043e\\u0431\\u044b\", \"\\u0431\\u0443\\u0434\\u044c\\u0442\\u0435\", \"\\u043d\\u043e\\u043c\\u0435\\u0440\\u0430\", \"\\u0433\\u043e\\u0432\\u043e\\u0440\\u0438\\u0442\\u044c\", \"\\u043a\\u043e\\u0442\\u043e\\u0440\\u043e\\u0439\", \"\\u0440\\u0430\\u0437\\u0434\\u0430\\u044e\\u0442\\u0441\\u044f\", \"\\u0431\\u043e\\u043b\\u044c\\u043d\\u0438\\u0446\\u0430\\u043c\", \"\\u043a\\u0430\\u043d\\u0444\\u0438\\u0441\\u043a\\u0430\\u0442\\u044b\", \"\\u0421\\u041b\\u041e\\u0412\\u0410\", \"\\u043a\\u043e\\u0440\\u0440\\u0443\\u043f\\u0446\\u0438\\u0435\\u0439\", \"\\u0432\\u043d\\u0443\\u0442\\u0440\\u0438\", \"\\u0434\\u0443\\u043c\\u0430\\u044e\\u0442\", \"\\u043e\\u0431\\u044b\\u043a\\u043d\\u043e\\u0432\\u0435\\u043d\\u043d\\u0430\\u044f\", \"\\u043e\\u0431\\u0440\\u0430\\u0442\\u043d\\u043e\", \"\\u0441\\u0432\\u043e\\u0438\", \"\\u043e\\u0447\\u0435\\u043d\\u044c\", \"\\u043f\\u043e\\u0447\\u0435\\u043c\\u0443\", \"\\u0442\\u0430\\u043a\\u0438\\u0435\", \"\\u0434\\u0435\\u043d\\u044c\\u0433\\u0438\", \"\\u0441\\u0432\\u043e\\u0438\\u0445\", \"\\u043f\\u0440\\u043e\\u0442\\u0438\\u0432\", \"\\u042d\\u0442\\u043e\", \"\\u043d\\u0435\\u0441\\u043a\\u043e\\u043b\\u044c\\u043a\\u043e\", \"\\u044d\\u0442\\u043e\", \"\\u0432\\u0441\\u0451\", \"\\u0441\\u0430\\u043c\\u0438\", \"\\u0442\\u0430\\u043a\\u0438\\u0445\", \"\\u044d\\u0442\\u0438\\u0445\", \"\\u0441\\u043a\\u043e\\u043b\\u044c\\u043a\\u043e\", \"\\u043a\\u043e\\u0442\\u043e\\u0440\\u044b\\u0435\", \"\\u0435\\u0449\\u0451\", \"\\u0431\\u0443\\u0434\\u0443\\u0442\", \"\\u0442\\u0438\\u043f\\u0430\", \"\\u0432\\u0437\\u044f\\u0442\\u043a\\u0438\", \"\\u0434\\u0430\\u043b\\u044c\\u0448\\u0435\", \"\\u043f\\u043e\\u043a\\u0430\", \"\\u0440\\u0430\\u0431\\u043e\\u0442\\u0430\\u0435\\u0442\", \"\\u0441\\u0440\\u0430\\u0437\\u0443\", \"\\u0431\\u0430\\u043d\\u043a\\u0443\", \"\\u043a\\u0443\\u0440\\u0441\\u0435\", \"\\u0442\\u0435\\u0431\\u0435\", \"\\u043f\\u043e\\u043a\\u0443\\u043f\\u0430\\u044e\", \"\\u0430\\u043f\\u0442\\u0435\\u043a\\u0430\\u0445\", \"\\u0431\\u043e\\u0448\\u043b\\u0430\\u0431\\u0434\\u0438\", \"\\u0425\\u0430\\u043b\\u043a\", \"\\u043e\\u043b\\u0438\\u0431\", \"\\u043d\\u0430\\u0432\\u043e\\u0434\\u043a\\u0443\", \"\\u043d\\u0430\\u043a\\u0430\\u0437\\u0430\\u043d\\u0438\\u044f\", \"\\u0441\\u043d\\u0438\\u043c\\u0430\\u044e\\u0442\", \"\\u043a\\u0430\\u0436\\u0434\\u044b\\u043c\", \"\\u043a\\u043e\\u043d\\u0442\\u0440\\u043e\\u043b\\u0438\\u0440\\u0443\\u0435\\u0442\", \"\\u043a\\u0440\\u0435\\u0434\\u0438\\u0442\\u044b\", \"\\u0430\\u043d\\u0435\\u043a\\u0434\\u043e\\u0442\", \"\\u043a\\u043e\\u043c\\u043c\\u0435\\u043d\\u0442\", \"\\u0430\\u043d\\u0442\\u0438\\u043a\\u0432\\u0430\\u0440\\u043d\\u044b\\u0439\", \"\\u0442\\u044b\\u0441\", \"\\u0414\\u0435\\u0431\\u0435\\u043b\\u0438\\u0437\\u043c\", \"\\u0441\\u0442\\u0430\\u0432\\u043a\\u0430\", \"\\u0430\\u043f\\u0442\\u0435\\u043a\\u0438\", \"\\u043e\\u0431\\u044b\\u0447\\u043d\\u043e\", \"\\u0436\\u0438\\u0432\\u0443\\u0442\", \"\\u043f\\u0440\\u043e\\u0432\\u0435\\u0440\\u044f\\u0442\\u044c\", \"\\u0432\\u043e\\u0440\\u043e\\u0432\\u0430\\u043b\\u0438\", \"\\u043a\\u0430\\u0436\\u0434\\u0443\\u044e\", \"\\u043a\\u0440\\u044b\\u0448\\u0443\\u0435\\u0442\", \"\\u0447\\u0435\\u0440\\u0442\\u0430\", \"\\u043f\\u0440\\u043e\\u0446\\u0435\\u043d\\u0442\\u044b\", \"\\u043d\\u0430\\u043c\", \"\\u0431\\u0435\\u0440\\u0443\\u0442\", \"\\u043f\\u0440\\u043e\\u0434\\u0430\\u0432\\u0430\\u0442\\u044c\", \"\\u043f\\u043e\\u0441\\u0442\\u043e\\u044f\\u043d\\u043d\\u043e\", \"\\u0434\\u0440\\u0443\\u0433\\u0438\\u043c\", \"\\u0431\\u0430\\u043d\\u043a\\u0435\", \"\\u0441\\u0443\\u043c\", \"\\u044d\\u0442\\u043e\", \"\\u0446\\u0435\\u043d\\u044b\", \"\\u043d\\u0438\\u043a\\u0442\\u043e\", \"\\u0441\\u0443\\u043c\\u043c\\u0443\", \"\\u043d\\u0443\\u0436\\u043d\\u043e\", \"\\u042d\\u0442\\u043e\", \"\\u0432\\u043e\\u0440\\u0443\\u044e\\u0442\", \"\\u0434\\u043e\\u043b\\u043b\\u0430\\u0440\\u043e\\u0432\", \"\\u0447\\u0435\\u043b\\u043e\\u0432\\u0435\\u043a\\u0430\", \"\\u0434\\u0435\\u043d\\u044c\\u0433\\u0438\", \"\\u043f\\u043e\\u043b\\u0443\\u0447\\u0430\\u0435\\u0442\\u0441\\u044f\", \"\\u0432\\u0441\\u0435\\u043c\", \"\\u043f\\u0443\\u0441\\u0442\\u044c\", \"\\u0432\\u0440\\u0435\\u043c\\u044f\", \"\\u043b\\u0435\\u0442\", \"\\u0431\\u0443\\u0434\\u0443\\u0442\", \"\\u0442\\u0430\\u043a\\u0438\\u0445\", \"\\u043b\\u044e\\u0434\\u0435\\u0439\", \"\\u0442\\u0430\\u043a\\u0438\\u0435\", \"\\u043f\\u0440\\u043e\\u0434\\u0430\\u044e\\u0442\", \"\\u0440\\u0430\\u0431\\u043e\\u0442\\u0430\\u044e\\u0442\", \"\\u0435\\u0449\\u0451\", \"\\u043b\\u044e\\u0434\\u0438\", \"\\u0432\\u0430\", \"\\u0421\\u0438\\u0440\\u0438\\u0438\", \"\\u0438\\u044e\\u043b\\u044f\", \"\\u0442\\u0443\\u043f\\u043e\", \"\\u0434\\u0430\\u0432\\u043b\\u0430\\u0442\", \"\\u0434\\u0430\\u0439\\u0442\\u0435\", \"\\u0440\\u0443\\u0441\\u0441\\u043a\\u0438\\u0445\", \"\\u0448\\u0443\\u0441\\u0442\\u0440\\u044b\\u0439\", \"\\u043c\\u0438\\u043b\\u043b\\u0438\\u043e\\u043d\\u043e\\u0432\", \"\\u0438\\u043d\\u0442\\u0435\\u0440\\u0435\\u0441\\u043d\\u043e\", \"\\u0441\\u043c\\u043e\\u0442\\u0440\\u0435\\u0442\\u044c\", \"\\u043a\\u0440\\u043e\\u043c\\u0435\", \"\\u0441\\u043d\\u0435\\u0441\\u0443\\u0442\", \"\\u0441\\u0442\\u043e\\u0440\\u043e\\u043d\\u0443\", \"\\u0437\\u0430\\u043f\\u0440\\u0435\\u0442\\u0430\\u043c\\u0438\", \"\\u043f\\u0435\\u0442\\u0430\\u0440\\u0434\\u044b\", \"\\u041f\\u043e\\u044d\\u0442\\u043e\\u043c\\u0443\", \"\\u043b\\u0433\\u0431\\u0442\", \"\\u041b\\u0413\\u0411\\u0422\", \"\\u043c\\u043e\\u0440\\u0435\", \"\\u041c\\u0430\\u043d\", \"\\u043f\\u043e\\u043b\\u0443\\u0447\\u0438\\u0442\", \"\\u0431\\u043b\\u044e\\u0441\\u0442\\u0438\", \"\\u0413\\u043b\\u0430\\u0432\\u0430\\u0440\\u044f\", \"\\u043e\\u0440\\u0433\\u0430\\u043d\\u044b\", \"\\u043e\\u0442\\u043c\\u0430\\u0436\\u0435\\u0442\\u0441\\u044f\", \"\\u0448\\u043e\\u043a\\u043e\\u043b\\u0430\\u0434\\u043a\\u0430\\u043c\\u0438\", \"\\u0431\\u0430\\u0440\\u044b\\u0433\", \"\\u0445\\u043b\\u043e\\u043f\\u0430\\u0442\\u044c\", \"\\u0412\\u0417\\u042f\\u043b\\u0438\", \"\\u0440\\u0430\\u0431\\u043e\\u0442\\u0443\", \"\\u041c\\u0412\\u0414\", \"\\u0437\\u0430\\u043d\\u0438\\u043c\\u0430\\u044e\\u0442\\u0441\\u044f\", \"\\u0440\\u0430\\u0431\\u043e\\u0442\\u0430\\u0442\\u044c\", \"\\u0425\\u043e\\u0442\\u044f\", \"\\u0434\\u0440\\u0443\\u0433\\u043e\\u043c\\u0443\", \"\\u043a\\u043e\\u0442\\u043e\\u0440\\u044b\\u0435\", \"\\u0431\\u0443\\u0434\\u0443\\u0442\", \"\\u044d\\u0442\\u043e\", \"\\u043f\\u0440\\u043e\\u0441\\u0442\\u043e\", \"\\u0442\\u043e\\u043b\\u043a\\u0443\", \"\\u043b\\u044e\\u0434\\u0438\", \"\\u043f\\u0440\\u0430\\u0432\\u0438\\u043b\\u044c\\u043d\\u043e\", \"\\u043d\\u0430\\u0440\\u043e\\u0434\", \"\\u0442\\u0430\\u043a\\u0438\\u0445\", \"\\u0432\\u0437\\u044f\\u0442\\u043a\\u0438\", \"\\u043d\\u0438\\u043a\\u0442\\u043e\", \"\\u0441\\u0430\\u043c\\u0438\", \"\\u0412\\u041e\\u0420\", \"\\u0432\\u0441\\u0451\", \"\\u0441\\u0432\\u043e\\u0438\\u0445\", \"\\u0434\\u0435\\u043b\\u043e\", \"\\u0441\\u0442\\u0430\\u0442\\u044c\\u0438\", \"\\u042d\\u0422\\u041e\", \"\\u0442\\u0430\\u043a\\u0438\\u043c\\u0438\", \"\\u0442\\u0430\\u043a\\u0430\\u044f\", \"\\u0445\\u043b\\u043e\\u043f\\u043d\\u0443\\u043b\\u0438\", \"\\u0410\\u043f\\u0442\\u0435\\u043a\\u0430\", \"\\u0441\\u0443\\u0449\\u0435\\u0441\\u0442\\u0432\\u0443\\u044e\\u0449\\u0438\\u043c\", \"\\u0431\\u0435\\u0440\\u0451\\u0442\", \"\\u043f\\u0435\\u0434\\u0430\\u043b\\u044c\\u043d\\u044b\\u0445\", \"\\u043b\\u043e\\u0445\\u043e\\u0432\", \"\\u0441\\u0430\\u043c\\u0430\\u044f\", \"\\u0434\\u043e\\u0433\\u043e\\u0432\\u043e\\u0440\\u0438\\u0442\\u044c\\u0441\\u044f\", \"\\u043c\\u043e\\u043b\\u043e\\u0434\\u0446\\u044b\", \"\\u041a\\u0440\\u043e\\u043b\\u0438\\u043a\\u0438\", \"\\u0438\\u043c\\u0438\", \"\\u0441\\u043e\\u0442\\u0440\\u0443\\u0434\\u043d\\u0438\\u043a\\u0438\", \"\\u042d\\u043d\\u0434\\u0438\", \"\\u044d\\u043a\\u0430\\u043d\", \"\\u043c\\u0430\\u0439\\u043d\\u0435\\u0440\\u043e\\u0432\", \"\\u0432\\u0438\\u0434\\u044f\\u0445\\u0438\", \"\\u043b\\u0435\\u0445\\u043a\\u043e\", \"\\u0440\\u0443\\u0431\\u0438\\u0442\\u044c\", \"\\u0427\\u0435\\u043b\\u043e\\u0432\\u0435\\u043a\", \"\\u043a\\u0430\\u0436\\u0434\\u043e\\u043c\\u0443\", \"\\u0436\\u0438\\u0432\", \"\\u043f\\u0435\\u043d\\u0441\\u0438\\u044e\", \"\\u0440\\u043e\\u0437\\u044b\\u0441\\u043a\", \"\\u0442\\u0435\\u043b\\u0435\\u0444\\u043e\\u043d\\u0430\", \"\\u043c\\u044f\\u0441\\u043e\", \"\\u0442\\u0430\\u043a\\u0438\\u043c\", \"\\u041b\\u044e\\u0431\\u043b\\u044e\", \"\\u0432\\u0434\\u043e\\u0445\\u043d\\u043e\\u0432\\u043b\\u044f\\u044e\\u0442\", \"\\u0447\\u0443\\u0442\\u043a\\u0438\\u0445\", \"\\u041f\\u043e\\u0447\\u0435\\u043c\\u0443\", \"\\u0434\\u0435\\u043d\\u0435\\u0433\", \"\\u043f\\u043e\\u043c\\u043e\\u0447\\u044c\", \"\\u0432\\u0441\\u0451\", \"\\u044d\\u0442\\u043e\", \"\\u0441\\u0430\\u043c\\u0438\", \"\\u043a\\u043e\\u043c\\u0443\", \"\\u043a\\u043e\\u0440\\u0440\\u0443\\u043f\\u0446\\u0438\\u0438\", \"\\u043f\\u043e\\u043a\\u0430\", \"\\u043b\\u0435\\u0442\", \"\\u043f\\u0440\\u043e\\u0442\\u0438\\u0432\", \"\\u043c\\u043e\\u0433\\u0443\\u0442\", \"\\u0432\\u0437\\u044f\\u0442\\u043a\\u0438\", \"\\u0434\\u043e\\u043b\\u043b\\u0430\\u0440\\u043e\\u0432\", \"\\u0421\\u0413\\u0411\", \"\\u0441\\u043f\\u043e\\u043a\\u043e\\u0439\\u043d\\u043e\", \"\\u0441\\u043a\\u0430\\u0437\\u0430\\u0442\\u044c\", \"\\u0434\\u0430\\u043b\\u0438\", \"\\u0441\\u043b\\u0435\\u0434\"], \"Freq\": [10.0, 4.0, 2.0, 6.0, 3.0, 8.0, 2.0, 2.0, 2.0, 2.0, 6.0, 2.0, 2.0, 2.0, 2.0, 3.0, 2.0, 2.0, 2.0, 2.0, 2.0, 2.0, 6.0, 3.0, 6.0, 4.0, 4.0, 5.0, 6.0, 3.0, 3.4178850679668438, 2.7690399677080393, 2.7679372972001204, 2.767821491621663, 2.7674475441768456, 2.767293975909761, 2.767035059424147, 2.766697712739076, 2.118227915508783, 2.1178291802478406, 2.1178551299928463, 2.1176862629954973, 2.1174745982843706, 2.1173303254483327, 2.116952311252432, 2.1165742970565318, 2.116396134628136, 2.1162801353948657, 2.1158777206924673, 2.115916451655162, 2.115698009025564, 1.4679807544004293, 1.4679776559234137, 1.4679751384108386, 1.4673596065862127, 1.4671886093859154, 1.4670475318543, 1.4669515758942238, 1.4667507558526518, 1.466753660674854, 6.0281861850705765, 4.7230546046904305, 3.423942590532298, 4.073047575550785, 7.988621253738872, 3.411379428163012, 2.7697725638674098, 6.022618609183211, 2.7696490120964135, 11.898724183446332, 4.729258530294871, 4.07259907100278, 4.074076269919956, 2.77081791255054, 2.767395257377208, 3.4200315379193853, 3.4296987862079873, 4.071335666999678, 2.773274230204639, 2.772365795474635, 2.122908939660067, 2.1240710621957217, 2.1232573246695057, 2.5453363379065572, 2.54345251150782, 1.947795125822793, 1.9463802948261746, 1.9452435693353058, 1.9448348711446106, 1.9447958010127189, 1.9445733781358858, 1.944107151483271, 1.3486557299974693, 1.3485614386949114, 1.3483965442799979, 1.348403466153758, 1.3482764113154013, 1.3482073463972144, 1.348190272441939, 1.3481653536964016, 1.3480939814869615, 1.348052757883233, 1.3479181658934483, 1.3477740370998157, 1.3475951451179646, 1.3475982215063025, 1.3476009902558066, 1.3475419235997181, 1.3474313274389693, 1.347394564598331, 1.3473135017656261, 1.3472716628842303, 1.34721367296406, 1.9449336232102585, 1.9476945279241424, 1.9472264554385248, 1.9463027698400586, 2.5472424681207446, 1.9488953961118571, 1.947117243652528, 9.738699830899469, 2.5461749613674796, 3.1453514276722756, 2.5459839176516934, 2.547519496890576, 4.353086114157247, 2.547625017010567, 1.9465644166682003, 1.9467831478790278, 4.354447415996786, 1.9504698916632144, 1.9478375799818566, 1.946103266056343, 2.5450836126045955, 2.548457487694814, 2.5496460503291765, 1.9540408094264778, 1.9507479971689643, 1.9484153257117216, 1.9482825795549394, 1.9480809222993876, 1.9470690981750391, 1.946993265202509, 2.2044423519295777, 1.687862288225373, 1.6855735307078703, 1.6855780545982533, 1.6853203031852038, 1.1688068841100583, 1.1687779753471221, 1.168685070086083, 1.16840966446666, 1.1682449286534395, 1.168115390914176, 1.1678688940576893, 1.167890189444127, 1.1677617550927615, 1.16763729293783, 1.1676123563713279, 1.1676824215028718, 1.1675683311941847, 1.1675569662988319, 1.1673512947945834, 1.1672957943832976, 1.1674720054306604, 1.1673685076457974, 1.1672251775578044, 1.1671892071123189, 1.16712245214447, 1.1671221211281007, 1.1671173765601377, 1.1670502905759195, 1.1670873644093032, 2.729540018514929, 1.6859748328864923, 1.6884322984136495, 1.6884904469558915, 1.6872497976030107, 1.6870799862054582, 2.72979666654008, 3.2486626189532517, 5.873973747783537, 2.20855975421098, 1.6870782207848207, 2.2086782580712607, 1.6886635685171392, 1.6867793130031636, 2.211274750473607, 1.6904652906163198, 1.6889992191158107, 1.7012247570292902, 1.1712334547760623, 1.178214921025156, 1.1780296621970268, 1.1719714006024644, 1.1713008717766502, 1.1712802384229515, 1.1710003089131455, 1.6510149439113992, 1.647454760932396, 1.14377422421463, 1.1429884951481704, 1.1428589840113756, 1.1427859887458574, 1.1425714397092912, 1.14168260879168, 1.1416522909317615, 1.1413597816839762, 1.1411095272932201, 1.1410440322648248, 1.1410849138390007, 1.141035792567704, 1.140939240219392, 1.1407748688255481, 1.1408120530997339, 1.140819447699714, 1.1403756660637638, 1.1397274765569345, 1.1396347271457552, 1.1390433704216303, 1.1382543666037506, 1.1376949122966828, 1.1375269492399913, 2.1599324419722334, 1.6475029314694094, 0.6354327654922477, 0.6354326598551051, 0.6354325013993913, 1.652222270813869, 1.6504748212014224, 1.1427540863288004, 4.186397847434594, 5.702868044707588, 2.152657634511785, 1.6510099789656985, 1.6510225497856645, 1.6482870759787307, 1.6485838107122188, 1.1443851238101312, 1.1443384321931138, 1.143861374857253, 1.1438095070202496, 1.1435518580295134, 1.1430124747795345, 1.1428512724999678, 1.141535033703505, 1.1413908390038927], \"Total\": [10.0, 4.0, 2.0, 6.0, 3.0, 8.0, 2.0, 2.0, 2.0, 2.0, 6.0, 2.0, 2.0, 2.0, 2.0, 3.0, 2.0, 2.0, 2.0, 2.0, 2.0, 2.0, 6.0, 3.0, 6.0, 4.0, 4.0, 5.0, 6.0, 3.0, 3.8310345252062064, 3.1791477228302703, 3.1789614314507952, 3.179079948398497, 3.1789161815569282, 3.178906812222813, 3.1787855292917717, 3.17870535057365, 2.5269695517728783, 2.526965193741067, 2.527033587465924, 2.526894350355767, 2.526942406500032, 2.526891933020848, 2.526788265327705, 2.526703574367449, 2.5266815962360494, 2.526708451126512, 2.5265723337862855, 2.526641021075984, 2.5265346275807476, 1.8749461867629933, 1.8749453235530986, 1.8749447230735097, 1.8748786698802096, 1.8748323501210755, 1.874755626577142, 1.8748043477420053, 1.874696190846967, 1.874719778995117, 8.148194021467338, 6.334764514490798, 4.951308291214104, 6.282518270273809, 14.653039738743606, 5.3777341658161815, 4.196101392594358, 11.66552095479264, 4.287101441376383, 33.21426580683693, 10.84300669914082, 8.676005410777137, 9.379080220634224, 4.378416365062893, 4.377896135795156, 6.93866523098891, 7.179563079042014, 10.508432982519622, 4.728061007646727, 6.354971856279376, 3.0364949604087266, 5.0928676500979515, 4.74415744101819, 2.968274305547757, 2.9681072084928113, 2.368704423205083, 2.368584659075655, 2.3685226636013237, 2.3685397182681727, 2.3686325643574775, 2.3686167879087137, 2.368580179676183, 1.769148015315042, 1.769134477397475, 1.7691346653370306, 1.7692481863949752, 1.7690914633274215, 1.7690889638710279, 1.7690890532323975, 1.7690824975546688, 1.7691113428900425, 1.7690668850416793, 1.7691073289093775, 1.7691426588830061, 1.7691009920043386, 1.7691180169091814, 1.769129327295783, 1.769184253270304, 1.7690878444243143, 1.7690911199031834, 1.7689928182159724, 1.769074556555162, 1.7690807234985373, 2.877097786308079, 2.888518625966127, 2.888437095541549, 2.8885668032204195, 4.140154001404314, 3.0205279399104885, 3.0206988175488716, 33.21426580683693, 4.516077365521582, 6.431536356833757, 4.782033932085215, 4.792111654820258, 11.66552095479264, 5.31234903562585, 3.385467763575247, 3.397043510757485, 14.653039738743606, 3.5290902849121855, 3.5294628871797835, 3.540637783021163, 5.952224099829327, 6.318850725618962, 10.508432982519622, 9.379080220634224, 5.354137341014724, 6.282518270273809, 4.049007034529591, 4.049431244626645, 7.179563079042014, 6.404619236224901, 2.6492439710527056, 2.1291519848823284, 2.129493664050803, 2.12953271298669, 2.129603392377238, 1.6094353759773194, 1.609442330347393, 1.6095242858462244, 1.6095926830839822, 1.6096140976748967, 1.6095475266589936, 1.609561273531452, 1.6097574983726997, 1.6095878407880484, 1.6096459785808335, 1.6096594301495974, 1.6098110208652694, 1.6096996371804257, 1.6097320227376422, 1.6096422783984106, 1.6096086903709526, 1.609863686042246, 1.6097227107007797, 1.6095465810791747, 1.609722023433271, 1.6096671151368516, 1.609682584807315, 1.609691308117069, 1.6096131562063676, 1.6096819435585854, 4.367421069209373, 2.638415275651705, 2.781295467659818, 2.781464638135972, 2.7816155339442745, 2.781602093504397, 6.93866523098891, 10.508432982519622, 33.21426580683693, 5.661367737755044, 3.3810716090333757, 6.404619236224901, 3.9804758600946846, 4.033721519135916, 9.379080220634224, 6.354971856279376, 6.431536356833757, 8.676005410777137, 2.118163713997997, 10.84300669914082, 5.3777341658161815, 4.621496784288892, 2.913535759373118, 3.3699541473757244, 2.1183119067429055, 2.095418057711051, 2.0957689021956987, 1.5867441768267998, 1.5868019319840077, 1.5868054639646154, 1.5869544461674692, 1.5870002422002236, 1.58684302387216, 1.5872835258219955, 1.5870106756036249, 1.5870747999526018, 1.587133213118906, 1.5872697451713502, 1.5872017394318072, 1.5873446106210727, 1.587130267588424, 1.5871850117188635, 1.5871969620498212, 1.586983005877298, 1.587607211544448, 1.5875258788896471, 1.5878174601617283, 1.588025386981681, 1.588170614489686, 1.5882241522888891, 3.2556469645106025, 2.695665114537773, 1.0783841562197378, 1.0783842130770034, 1.0783843031877065, 3.3469708995988183, 3.347163544571094, 2.1864690666557784, 10.84300669914082, 33.21426580683693, 8.676005410777137, 4.599030658116915, 4.651579206242777, 5.0928676500979515, 6.318850725618962, 4.196101392594358, 3.225670767263513, 6.354971856279376, 3.385467763575247, 2.706006185907647, 2.706173570174494, 4.690847008812977, 4.143574071719264, 2.239419163628944], \"Category\": [\"Default\", \"Default\", \"Default\", \"Default\", \"Default\", \"Default\", \"Default\", \"Default\", \"Default\", \"Default\", \"Default\", \"Default\", \"Default\", \"Default\", \"Default\", \"Default\", \"Default\", \"Default\", \"Default\", \"Default\", \"Default\", \"Default\", \"Default\", \"Default\", \"Default\", \"Default\", \"Default\", \"Default\", \"Default\", \"Default\", \"Topic1\", \"Topic1\", \"Topic1\", \"Topic1\", \"Topic1\", \"Topic1\", \"Topic1\", \"Topic1\", \"Topic1\", \"Topic1\", \"Topic1\", \"Topic1\", \"Topic1\", \"Topic1\", \"Topic1\", \"Topic1\", \"Topic1\", \"Topic1\", \"Topic1\", \"Topic1\", \"Topic1\", \"Topic1\", \"Topic1\", \"Topic1\", \"Topic1\", \"Topic1\", \"Topic1\", \"Topic1\", \"Topic1\", \"Topic1\", \"Topic1\", \"Topic1\", \"Topic1\", \"Topic1\", \"Topic1\", \"Topic1\", \"Topic1\", \"Topic1\", \"Topic1\", \"Topic1\", \"Topic1\", \"Topic1\", \"Topic1\", \"Topic1\", \"Topic1\", \"Topic1\", \"Topic1\", \"Topic1\", \"Topic1\", \"Topic1\", \"Topic1\", \"Topic1\", \"Topic1\", \"Topic2\", \"Topic2\", \"Topic2\", \"Topic2\", \"Topic2\", \"Topic2\", \"Topic2\", \"Topic2\", \"Topic2\", \"Topic2\", \"Topic2\", \"Topic2\", \"Topic2\", \"Topic2\", \"Topic2\", \"Topic2\", \"Topic2\", \"Topic2\", \"Topic2\", \"Topic2\", \"Topic2\", \"Topic2\", \"Topic2\", \"Topic2\", \"Topic2\", \"Topic2\", \"Topic2\", \"Topic2\", \"Topic2\", \"Topic2\", \"Topic2\", \"Topic2\", \"Topic2\", \"Topic2\", \"Topic2\", \"Topic2\", \"Topic2\", \"Topic2\", \"Topic2\", \"Topic2\", \"Topic2\", \"Topic2\", \"Topic2\", \"Topic2\", \"Topic2\", \"Topic2\", \"Topic2\", \"Topic2\", \"Topic2\", \"Topic2\", \"Topic2\", \"Topic2\", \"Topic2\", \"Topic2\", \"Topic2\", \"Topic2\", \"Topic2\", \"Topic2\", \"Topic2\", \"Topic2\", \"Topic3\", \"Topic3\", \"Topic3\", \"Topic3\", \"Topic3\", \"Topic3\", \"Topic3\", \"Topic3\", \"Topic3\", \"Topic3\", \"Topic3\", \"Topic3\", \"Topic3\", \"Topic3\", \"Topic3\", \"Topic3\", \"Topic3\", \"Topic3\", \"Topic3\", \"Topic3\", \"Topic3\", \"Topic3\", \"Topic3\", \"Topic3\", \"Topic3\", \"Topic3\", \"Topic3\", \"Topic3\", \"Topic3\", \"Topic3\", \"Topic3\", \"Topic3\", \"Topic3\", \"Topic3\", \"Topic3\", \"Topic3\", \"Topic3\", \"Topic3\", \"Topic3\", \"Topic3\", \"Topic3\", \"Topic3\", \"Topic3\", \"Topic3\", \"Topic3\", \"Topic3\", \"Topic3\", \"Topic3\", \"Topic3\", \"Topic3\", \"Topic3\", \"Topic3\", \"Topic3\", \"Topic3\", \"Topic3\", \"Topic4\", \"Topic4\", \"Topic4\", \"Topic4\", \"Topic4\", \"Topic4\", \"Topic4\", \"Topic4\", \"Topic4\", \"Topic4\", \"Topic4\", \"Topic4\", \"Topic4\", \"Topic4\", \"Topic4\", \"Topic4\", \"Topic4\", \"Topic4\", \"Topic4\", \"Topic4\", \"Topic4\", \"Topic4\", \"Topic4\", \"Topic4\", \"Topic4\", \"Topic4\", \"Topic4\", \"Topic4\", \"Topic4\", \"Topic4\", \"Topic4\", \"Topic4\", \"Topic4\", \"Topic4\", \"Topic4\", \"Topic4\", \"Topic4\", \"Topic4\", \"Topic4\", \"Topic4\", \"Topic4\", \"Topic4\", \"Topic4\", \"Topic4\", \"Topic4\", \"Topic4\", \"Topic4\", \"Topic4\", \"Topic4\"], \"logprob\": [30.0, 29.0, 28.0, 27.0, 26.0, 25.0, 24.0, 23.0, 22.0, 21.0, 20.0, 19.0, 18.0, 17.0, 16.0, 15.0, 14.0, 13.0, 12.0, 11.0, 10.0, 9.0, 8.0, 7.0, 6.0, 5.0, 4.0, 3.0, 2.0, 1.0, -6.1876, -6.3982, -6.3986, -6.3986, -6.3987, -6.3988, -6.3989, -6.399, -6.6661, -6.6663, -6.6663, -6.6663, -6.6664, -6.6665, -6.6667, -6.6669, -6.667, -6.667, -6.6672, -6.6672, -6.6673, -7.0328, -7.0328, -7.0328, -7.0332, -7.0333, -7.0334, -7.0335, -7.0336, -7.0336, -5.6202, -5.8642, -6.1859, -6.0123, -5.3387, -6.1896, -6.3979, -5.6211, -6.3979, -4.9402, -5.8629, -6.0124, -6.012, -6.3975, -6.3988, -6.187, -6.1842, -6.0127, -6.3966, -6.397, -6.6639, -6.6633, -6.6637, -6.2521, -6.2528, -6.5197, -6.5204, -6.521, -6.5212, -6.5212, -6.5213, -6.5216, -6.8873, -6.8873, -6.8875, -6.8874, -6.8875, -6.8876, -6.8876, -6.8876, -6.8877, -6.8877, -6.8878, -6.8879, -6.888, -6.888, -6.888, -6.8881, -6.8882, -6.8882, -6.8883, -6.8883, -6.8883, -6.5211, -6.5197, -6.52, -6.5204, -6.2514, -6.5191, -6.52, -4.9103, -6.2518, -6.0404, -6.2519, -6.2513, -5.7155, -6.2512, -6.5203, -6.5202, -5.7152, -6.5183, -6.5197, -6.5205, -6.2522, -6.2509, -6.2504, -6.5165, -6.5182, -6.5194, -6.5194, -6.5195, -6.52, -6.5201, -6.0637, -6.3307, -6.332, -6.332, -6.3322, -6.6982, -6.6982, -6.6983, -6.6985, -6.6986, -6.6988, -6.699, -6.6989, -6.6991, -6.6992, -6.6992, -6.6991, -6.6992, -6.6992, -6.6994, -6.6995, -6.6993, -6.6994, -6.6995, -6.6995, -6.6996, -6.6996, -6.6996, -6.6997, -6.6996, -5.85, -6.3318, -6.3303, -6.3303, -6.331, -6.3311, -5.8499, -5.6759, -5.0836, -6.0618, -6.3311, -6.0618, -6.3302, -6.3313, -6.0606, -6.3291, -6.33, -6.3228, -6.6961, -6.6901, -6.6903, -6.6955, -6.696, -6.696, -6.6963, -6.3092, -6.3114, -6.6763, -6.677, -6.6771, -6.6771, -6.6773, -6.6781, -6.6781, -6.6784, -6.6786, -6.6787, -6.6786, -6.6787, -6.6787, -6.6789, -6.6789, -6.6789, -6.6792, -6.6798, -6.6799, -6.6804, -6.6811, -6.6816, -6.6817, -6.0405, -6.3113, -7.2641, -7.2641, -7.2641, -6.3085, -6.3095, -6.6772, -5.3788, -5.0696, -6.0439, -6.3092, -6.3092, -6.3109, -6.3107, -6.6757, -6.6758, -6.6762, -6.6762, -6.6765, -6.6769, -6.6771, -6.6782, -6.6784], \"loglift\": [30.0, 29.0, 28.0, 27.0, 26.0, 25.0, 24.0, 23.0, 22.0, 21.0, 20.0, 19.0, 18.0, 17.0, 16.0, 15.0, 14.0, 13.0, 12.0, 11.0, 10.0, 9.0, 8.0, 7.0, 6.0, 5.0, 4.0, 3.0, 2.0, 1.0, 0.9539, 0.9299, 0.9295, 0.9295, 0.9294, 0.9293, 0.9293, 0.9292, 0.8916, 0.8914, 0.8914, 0.8913, 0.8912, 0.8912, 0.891, 0.8909, 0.8908, 0.8907, 0.8906, 0.8906, 0.8905, 0.8233, 0.8233, 0.8233, 0.8229, 0.8228, 0.8228, 0.8227, 0.8226, 0.8226, 0.7667, 0.7744, 0.6991, 0.6346, 0.4614, 0.6129, 0.6526, 0.4069, 0.6311, 0.0415, 0.2382, 0.3117, 0.2342, 0.6105, 0.6093, 0.3605, 0.3292, 0.1198, 0.5345, 0.2385, 0.7101, 0.1935, 0.264, 1.1446, 1.1439, 1.1027, 1.102, 1.1014, 1.1012, 1.1011, 1.101, 1.1008, 1.0269, 1.0268, 1.0267, 1.0267, 1.0267, 1.0266, 1.0266, 1.0266, 1.0265, 1.0265, 1.0264, 1.0263, 1.0261, 1.0261, 1.0261, 1.0261, 1.026, 1.026, 1.026, 1.0259, 1.0259, 0.9067, 0.9042, 0.904, 0.9035, 0.8126, 0.8601, 0.8592, 0.0714, 0.7252, 0.583, 0.668, 0.6664, 0.3125, 0.5634, 0.7449, 0.7416, 0.0848, 0.7053, 0.7039, 0.6998, 0.4487, 0.3903, -0.1179, -0.2703, 0.2886, 0.1275, 0.5668, 0.5666, -0.0066, 0.1076, 1.4467, 1.3983, 1.3967, 1.3967, 1.3965, 1.3106, 1.3106, 1.3105, 1.3102, 1.31, 1.31, 1.3097, 1.3096, 1.3096, 1.3095, 1.3095, 1.3094, 1.3094, 1.3094, 1.3092, 1.3092, 1.3092, 1.3092, 1.3092, 1.3091, 1.309, 1.309, 1.309, 1.309, 1.309, 1.1605, 1.1827, 1.1314, 1.1314, 1.1306, 1.1305, 0.6976, 0.4566, -0.1019, 0.6892, 0.9353, 0.5659, 0.7731, 0.7587, 0.1856, 0.3063, 0.2934, 0.0013, 1.038, -0.589, 0.1121, 0.2585, 0.7193, 0.5737, 1.0378, 1.4357, 1.4334, 1.3467, 1.346, 1.3459, 1.3457, 1.3455, 1.3448, 1.3445, 1.3444, 1.3442, 1.3441, 1.344, 1.344, 1.3439, 1.3438, 1.3438, 1.3438, 1.3436, 1.3426, 1.3426, 1.3419, 1.3411, 1.3405, 1.3403, 1.2638, 1.1817, 1.1452, 1.1452, 1.1452, 0.9681, 0.967, 1.0252, 0.7224, -0.0879, 0.2802, 0.6496, 0.6383, 0.546, 0.3304, 0.3748, 0.6378, -0.0408, 0.5889, 0.8127, 0.8122, 0.262, 0.3849, 1.0001]}, \"token.table\": {\"Topic\": [4, 3, 3, 4, 3, 2, 4, 3, 4, 3, 4, 3, 1, 2, 4, 3, 2, 3, 4, 1, 1, 3, 2, 1, 3, 4, 1, 2, 3, 4, 4, 1, 2, 3, 4, 2, 2, 2, 2, 1, 2, 2, 3, 1, 2, 3, 4, 3, 1, 2, 1, 2, 3, 4, 1, 3, 4, 1, 2, 3, 4, 4, 1, 2, 1, 2, 3, 1, 2, 3, 4, 1, 2, 4, 1, 2, 3, 4, 1, 3, 1, 3, 1, 2, 4, 1, 4, 1, 1, 2, 3, 4, 1, 2, 4, 1, 2, 3, 4, 4, 2, 4, 1, 2, 3, 1, 3, 1, 1, 2, 3, 4, 4, 2, 1, 3, 3, 4, 3, 1, 3, 4, 2, 2, 1, 2, 1, 2, 4, 2, 1, 1, 2, 4, 1, 1, 3, 4, 2, 3, 2, 1, 2, 3, 1, 2, 3, 4, 4, 1, 4, 1, 2, 3, 4, 1, 2, 3, 4, 3, 2, 3, 4, 4, 3, 1, 1, 4, 2, 2, 2, 4, 1, 2, 3, 1, 2, 4, 1, 2, 3, 1, 1, 2, 3, 1, 1, 2, 2, 3, 1, 3, 1, 2, 4, 4, 3, 1, 3, 4, 2, 1, 2, 4, 3, 2, 4, 2, 3, 1, 2, 3, 1, 2, 3, 2, 2, 3, 1, 2, 3, 4, 1, 2, 3, 4, 1, 4, 2, 1, 2, 3, 1, 2, 4, 1, 3, 1, 2, 3, 4, 2, 3, 1, 1, 4, 4, 3, 4, 1, 2, 3, 4, 1, 2, 4, 1, 3, 4, 1, 2, 4, 1, 2, 1, 4, 3, 1, 3, 2, 1, 4, 2, 3, 4, 2, 2, 1, 3, 3, 1, 2, 1, 1, 2, 4, 4, 4, 1, 2, 2, 4, 3, 4, 1, 2, 3, 4, 2, 4, 1, 1, 3, 4, 1, 2, 3, 3, 2, 1, 3, 4, 1, 2, 3, 4, 2, 3, 4, 2, 4, 3, 3, 4, 1, 2, 1, 2, 3, 4, 1], \"Freq\": [0.630221313935948, 0.6212407388935866, 0.47210703940939364, 0.47210703940939364, 0.6212929850899477, 0.5652568296217968, 0.6300900247611928, 0.6212214119337193, 0.9273133272891244, 0.7580307840303826, 0.3790153920151913, 0.6212690115195257, 0.29877762012208237, 0.29877762012208237, 0.5975552402441647, 0.6211909267849978, 0.36954830525066984, 0.36954830525066984, 0.36954830525066984, 0.5333678472452259, 0.7915451659186783, 0.9393411152424301, 0.8443746621275234, 0.35950331301968974, 0.7190066260393795, 0.629878721089447, 0.2967399425237662, 0.2967399425237662, 0.2967399425237662, 0.2967399425237662, 0.6300396321125404, 0.5143362240959305, 0.3428908160639536, 0.0857227040159884, 0.0857227040159884, 0.5652626690402308, 0.5652555470965369, 0.8444021371372057, 0.565258854367059, 0.3310679523228096, 0.6621359046456192, 1.0107451615682654, 0.6212371247563899, 0.783078299154332, 0.6923964353288729, 0.3461982176644364, 0.6301969729178467, 0.6212250056189231, 0.5333488861984299, 0.8443690381089252, 0.3806466679336346, 0.28548500095022594, 0.28548500095022594, 0.09516166698340865, 0.7915436381701723, 0.754932358760933, 0.9273132783969954, 0.47207132743407615, 0.15735710914469203, 0.31471421828938406, 0.15735710914469203, 0.630046272247138, 0.533402853056514, 0.5652630552811321, 0.1882406433187592, 0.5647219299562776, 0.1882406433187592, 0.3360088542461544, 0.5040132813692316, 0.1680044271230772, 0.1680044271230772, 0.2833292293941784, 0.5666584587883567, 0.2833292293941784, 0.4611267094759049, 0.09222534189518099, 0.09222534189518099, 0.36890136758072395, 0.7915647625907256, 0.9391420051070805, 0.9437044345111409, 0.6213359137783064, 0.4826750928987626, 0.2413375464493813, 0.2413375464493813, 0.6586541476527893, 0.32932707382639465, 0.7914854056792741, 0.21638011377603275, 0.21638011377603275, 0.21638011377603275, 0.21638011377603275, 0.2987604240676982, 0.2987604240676982, 0.5975208481353964, 0.5459618033279109, 0.27298090166395544, 0.06824522541598886, 0.06824522541598886, 0.6300071686828205, 0.5907603142816182, 0.2953801571408091, 0.24153690893160168, 0.724610726794805, 0.24153690893160168, 0.35950505010590916, 0.7190101002118183, 0.5333889913389573, 0.4178527254335785, 0.2785684836223857, 0.13928424181119284, 0.13928424181119284, 0.6297953165839002, 0.5652498008885297, 0.3595446839890765, 0.719089367978153, 0.6212546195292357, 0.630066834802657, 0.6212669244413985, 0.9437178675565768, 0.939190397117935, 0.6299109912459654, 0.5652620086944571, 0.5652118270854937, 0.5333490570115297, 0.5652647637304985, 0.21743712411116056, 0.21743712411116056, 0.4348742482223211, 0.5652618989631748, 0.5333810246742439, 0.429961505829213, 0.2149807529146065, 0.429961505829213, 0.7915980957344232, 0.43235981274923607, 0.43235981274923607, 0.1441199375830787, 0.5652626975931455, 0.6212873137820679, 0.5652934199068705, 0.9437206490184232, 0.8443434226773677, 0.6212339102912486, 0.1582566266276286, 0.47476987988288577, 0.1582566266276286, 0.3165132532552572, 0.6300415284997317, 0.7914632164122067, 0.6301196265815284, 0.37354290198707474, 0.37354290198707474, 0.18677145099353737, 0.18677145099353737, 0.3122746140298057, 0.3122746140298057, 0.3122746140298057, 0.6300680041339372, 0.6212751899965141, 0.310013039814459, 0.310013039814459, 0.310013039814459, 0.630115484018182, 0.6212560476449445, 0.943649135413317, 0.30715861114576426, 0.6143172222915285, 0.5652438299923279, 0.565248155398041, 0.6951449511093678, 0.3475724755546839, 0.24791002434253692, 0.24791002434253692, 0.49582004868507384, 0.699773504551561, 0.23325783485052032, 0.23325783485052032, 0.155483844686264, 0.466451534058792, 0.310967689372528, 0.7915862820372248, 0.20867627301507605, 0.6260288190452281, 0.20867627301507605, 0.5334130525555225, 0.5334197641636061, 0.5652534146631415, 0.844387712588825, 0.6212252708496622, 0.943669252958325, 0.6212464618282156, 0.789295322432662, 0.1578590644865324, 0.6301378104551284, 0.6297128548433815, 0.6212494278414302, 0.3927060621654941, 0.19635303108274704, 0.3927060621654941, 0.8444082172973649, 0.28335914336770307, 0.5667182867354061, 0.28335914336770307, 0.6211706051078402, 0.457358402755502, 0.457358402755502, 0.6923848871247258, 0.3461924435623629, 0.6059004658068612, 0.2019668219356204, 0.2019668219356204, 0.2512262440843474, 0.2512262440843474, 0.5024524881686948, 0.5652322521814892, 0.6924159792460437, 0.34620798962302185, 0.24697413253967804, 0.4939482650793561, 0.24697413253967804, 0.24697413253967804, 0.17663576123683136, 0.17663576123683136, 0.3532715224736627, 0.17663576123683136, 0.7149493587773305, 0.23831645292577683, 0.5652653305850274, 0.28243499089215446, 0.5648699817843089, 0.28243499089215446, 0.42157116935199357, 0.21078558467599678, 0.21078558467599678, 0.35952281624912574, 0.7190456324982515, 0.2469482600369967, 0.4938965200739934, 0.2469482600369967, 0.2469482600369967, 0.22896807616056777, 0.6869042284817033, 0.5333486406489635, 0.7914861628486979, 0.6296552718432722, 0.6301264703506962, 0.6213332289974958, 0.6301820564203221, 0.461041667289798, 0.1152604168224495, 0.230520833644899, 0.230520833644899, 0.7363594907279235, 0.12272658178798725, 0.12272658178798725, 0.5578557636912661, 0.18595192123042203, 0.18595192123042203, 0.2131811159309267, 0.4263622318618534, 0.2131811159309267, 0.685260661044694, 0.2284202203482313, 0.446544361252815, 0.446544361252815, 0.6212926200916494, 0.9437566556018628, 0.6212115806330443, 0.56524809535033, 0.9437804606389832, 0.6300126383950242, 0.3695254476731587, 0.3695254476731587, 0.3695254476731587, 1.0106882623324087, 0.565245541380691, 0.3432255797042841, 0.3432255797042841, 0.6212770590453788, 0.33104922416973837, 0.6620984483394767, 0.7914703536002314, 0.2091160402042459, 0.6273481206127377, 0.2091160402042459, 0.630198375640797, 0.9544634745510966, 0.63668736451214, 0.31834368225607, 0.37096596109323116, 0.7419319221864623, 0.4720740117717554, 0.4720740117717554, 0.4264810520758629, 0.21324052603793145, 0.21324052603793145, 0.10662026301896572, 0.8443861157069656, 0.6296340466544583, 0.7914417955978075, 0.6345095791166989, 0.2115031930388996, 0.2115031930388996, 0.2957642178675692, 0.2957642178675692, 0.5915284357351384, 0.9391731753183453, 0.5652697523510762, 0.7915186355120323, 0.621267287822659, 0.9543036915495008, 0.7914618514484413, 0.6642933141278275, 0.22143110470927585, 0.22143110470927585, 0.5887472426145148, 0.2943736213072574, 0.2943736213072574, 0.5652673010838245, 0.9273132009099146, 0.6212404914101146, 0.6213015912799598, 0.6299829245073222, 0.685179240589858, 0.22839308019661936, 0.36129053912520576, 0.30107544927100477, 0.18064526956260288, 0.18064526956260288, 0.7915520511089972], \"Term\": [\"\\u0410\\u043f\\u0442\\u0435\\u043a\\u0430\", \"\\u0412\\u0417\\u042f\\u043b\\u0438\", \"\\u0412\\u041e\\u0420\", \"\\u0412\\u041e\\u0420\", \"\\u0413\\u043b\\u0430\\u0432\\u0430\\u0440\\u044f\", \"\\u0414\\u0435\\u0431\\u0435\\u043b\\u0438\\u0437\\u043c\", \"\\u041a\\u0440\\u043e\\u043b\\u0438\\u043a\\u0438\", \"\\u041b\\u0413\\u0411\\u0422\", \"\\u041b\\u044e\\u0431\\u043b\\u044e\", \"\\u041c\\u0412\\u0414\", \"\\u041c\\u0412\\u0414\", \"\\u041c\\u0430\\u043d\", \"\\u041f\\u043e\\u0447\\u0435\\u043c\\u0443\", \"\\u041f\\u043e\\u0447\\u0435\\u043c\\u0443\", \"\\u041f\\u043e\\u0447\\u0435\\u043c\\u0443\", \"\\u041f\\u043e\\u044d\\u0442\\u043e\\u043c\\u0443\", \"\\u0421\\u0413\\u0411\", \"\\u0421\\u0413\\u0411\", \"\\u0421\\u0413\\u0411\", \"\\u0421\\u041b\\u041e\\u0412\\u0410\", \"\\u0421\\u0430\\u043c\\u0438\", \"\\u0421\\u0438\\u0440\\u0438\\u0438\", \"\\u0425\\u0430\\u043b\\u043a\", \"\\u0425\\u043e\\u0442\\u044f\", \"\\u0425\\u043e\\u0442\\u044f\", \"\\u0427\\u0435\\u043b\\u043e\\u0432\\u0435\\u043a\", \"\\u042d\\u0422\\u041e\", \"\\u042d\\u0422\\u041e\", \"\\u042d\\u0422\\u041e\", \"\\u042d\\u0422\\u041e\", \"\\u042d\\u043d\\u0434\\u0438\", \"\\u042d\\u0442\\u043e\", \"\\u042d\\u0442\\u043e\", \"\\u042d\\u0442\\u043e\", \"\\u042d\\u0442\\u043e\", \"\\u0430\\u043d\\u0435\\u043a\\u0434\\u043e\\u0442\", \"\\u0430\\u043d\\u0442\\u0438\\u043a\\u0432\\u0430\\u0440\\u043d\\u044b\\u0439\", \"\\u0430\\u043f\\u0442\\u0435\\u043a\\u0430\\u0445\", \"\\u0430\\u043f\\u0442\\u0435\\u043a\\u0438\", \"\\u0431\\u0430\\u043d\\u043a\\u0435\", \"\\u0431\\u0430\\u043d\\u043a\\u0435\", \"\\u0431\\u0430\\u043d\\u043a\\u0443\", \"\\u0431\\u0430\\u0440\\u044b\\u0433\", \"\\u0431\\u0434\\u0438\\u0442\\u0435\\u043b\\u044c\\u043d\\u044b\", \"\\u0431\\u0435\\u0440\\u0443\\u0442\", \"\\u0431\\u0435\\u0440\\u0443\\u0442\", \"\\u0431\\u0435\\u0440\\u0451\\u0442\", \"\\u0431\\u043b\\u044e\\u0441\\u0442\\u0438\", \"\\u0431\\u043e\\u043b\\u044c\\u043d\\u0438\\u0446\\u0430\\u043c\", \"\\u0431\\u043e\\u0448\\u043b\\u0430\\u0431\\u0434\\u0438\", \"\\u0431\\u0443\\u0434\\u0443\\u0442\", \"\\u0431\\u0443\\u0434\\u0443\\u0442\", \"\\u0431\\u0443\\u0434\\u0443\\u0442\", \"\\u0431\\u0443\\u0434\\u0443\\u0442\", \"\\u0431\\u0443\\u0434\\u044c\\u0442\\u0435\", \"\\u0432\\u0430\", \"\\u0432\\u0434\\u043e\\u0445\\u043d\\u043e\\u0432\\u043b\\u044f\\u044e\\u0442\", \"\\u0432\\u0437\\u044f\\u0442\\u043a\\u0438\", \"\\u0432\\u0437\\u044f\\u0442\\u043a\\u0438\", \"\\u0432\\u0437\\u044f\\u0442\\u043a\\u0438\", \"\\u0432\\u0437\\u044f\\u0442\\u043a\\u0438\", \"\\u0432\\u0438\\u0434\\u044f\\u0445\\u0438\", \"\\u0432\\u043d\\u0443\\u0442\\u0440\\u0438\", \"\\u0432\\u043e\\u0440\\u043e\\u0432\\u0430\\u043b\\u0438\", \"\\u0432\\u043e\\u0440\\u0443\\u044e\\u0442\", \"\\u0432\\u043e\\u0440\\u0443\\u044e\\u0442\", \"\\u0432\\u043e\\u0440\\u0443\\u044e\\u0442\", \"\\u0432\\u0440\\u0435\\u043c\\u044f\", \"\\u0432\\u0440\\u0435\\u043c\\u044f\", \"\\u0432\\u0440\\u0435\\u043c\\u044f\", \"\\u0432\\u0440\\u0435\\u043c\\u044f\", \"\\u0432\\u0441\\u0435\\u043c\", \"\\u0432\\u0441\\u0435\\u043c\", \"\\u0432\\u0441\\u0435\\u043c\", \"\\u0432\\u0441\\u0451\", \"\\u0432\\u0441\\u0451\", \"\\u0432\\u0441\\u0451\", \"\\u0432\\u0441\\u0451\", \"\\u0433\\u043e\\u0432\\u043e\\u0440\\u0438\\u0442\\u044c\", \"\\u0434\\u0430\\u0432\\u043b\\u0430\\u0442\", \"\\u0434\\u0430\\u0432\\u043d\\u043e\", \"\\u0434\\u0430\\u0439\\u0442\\u0435\", \"\\u0434\\u0430\\u043b\\u0438\", \"\\u0434\\u0430\\u043b\\u0438\", \"\\u0434\\u0430\\u043b\\u0438\", \"\\u0434\\u0430\\u043b\\u044c\\u0448\\u0435\", \"\\u0434\\u0430\\u043b\\u044c\\u0448\\u0435\", \"\\u0434\\u0430\\u0447\\u0430\", \"\\u0434\\u0435\\u043b\\u043e\", \"\\u0434\\u0435\\u043b\\u043e\", \"\\u0434\\u0435\\u043b\\u043e\", \"\\u0434\\u0435\\u043b\\u043e\", \"\\u0434\\u0435\\u043d\\u0435\\u0433\", \"\\u0434\\u0435\\u043d\\u0435\\u0433\", \"\\u0434\\u0435\\u043d\\u0435\\u0433\", \"\\u0434\\u0435\\u043d\\u044c\\u0433\\u0438\", \"\\u0434\\u0435\\u043d\\u044c\\u0433\\u0438\", \"\\u0434\\u0435\\u043d\\u044c\\u0433\\u0438\", \"\\u0434\\u0435\\u043d\\u044c\\u0433\\u0438\", \"\\u0434\\u043e\\u0433\\u043e\\u0432\\u043e\\u0440\\u0438\\u0442\\u044c\\u0441\\u044f\", \"\\u0434\\u043e\\u043b\\u043b\\u0430\\u0440\\u043e\\u0432\", \"\\u0434\\u043e\\u043b\\u043b\\u0430\\u0440\\u043e\\u0432\", \"\\u0434\\u0440\\u0443\\u0433\\u0438\\u043c\", \"\\u0434\\u0440\\u0443\\u0433\\u0438\\u043c\", \"\\u0434\\u0440\\u0443\\u0433\\u0438\\u043c\", \"\\u0434\\u0440\\u0443\\u0433\\u043e\\u043c\\u0443\", \"\\u0434\\u0440\\u0443\\u0433\\u043e\\u043c\\u0443\", \"\\u0434\\u0443\\u043c\\u0430\\u044e\\u0442\", \"\\u0435\\u0449\\u0451\", \"\\u0435\\u0449\\u0451\", \"\\u0435\\u0449\\u0451\", \"\\u0435\\u0449\\u0451\", \"\\u0436\\u0438\\u0432\", \"\\u0436\\u0438\\u0432\\u0443\\u0442\", \"\\u0437\\u0430\\u043d\\u0438\\u043c\\u0430\\u044e\\u0442\\u0441\\u044f\", \"\\u0437\\u0430\\u043d\\u0438\\u043c\\u0430\\u044e\\u0442\\u0441\\u044f\", \"\\u0437\\u0430\\u043f\\u0440\\u0435\\u0442\\u0430\\u043c\\u0438\", \"\\u0438\\u043c\\u0438\", \"\\u0438\\u043d\\u0442\\u0435\\u0440\\u0435\\u0441\\u043d\\u043e\", \"\\u0438\\u0445\\u043d\\u0438\\u0435\", \"\\u0438\\u044e\\u043b\\u044f\", \"\\u043a\\u0430\\u0436\\u0434\\u043e\\u043c\\u0443\", \"\\u043a\\u0430\\u0436\\u0434\\u0443\\u044e\", \"\\u043a\\u0430\\u0436\\u0434\\u044b\\u043c\", \"\\u043a\\u0430\\u043d\\u0444\\u0438\\u0441\\u043a\\u0430\\u0442\\u044b\", \"\\u043a\\u043e\\u043c\\u043c\\u0435\\u043d\\u0442\", \"\\u043a\\u043e\\u043c\\u0443\", \"\\u043a\\u043e\\u043c\\u0443\", \"\\u043a\\u043e\\u043c\\u0443\", \"\\u043a\\u043e\\u043d\\u0442\\u0440\\u043e\\u043b\\u0438\\u0440\\u0443\\u0435\\u0442\", \"\\u043a\\u043e\\u0440\\u0440\\u0443\\u043f\\u0446\\u0438\\u0435\\u0439\", \"\\u043a\\u043e\\u0440\\u0440\\u0443\\u043f\\u0446\\u0438\\u0438\", \"\\u043a\\u043e\\u0440\\u0440\\u0443\\u043f\\u0446\\u0438\\u0438\", \"\\u043a\\u043e\\u0440\\u0440\\u0443\\u043f\\u0446\\u0438\\u0438\", \"\\u043a\\u043e\\u0442\\u043e\\u0440\\u043e\\u0439\", \"\\u043a\\u043e\\u0442\\u043e\\u0440\\u044b\\u0435\", \"\\u043a\\u043e\\u0442\\u043e\\u0440\\u044b\\u0435\", \"\\u043a\\u043e\\u0442\\u043e\\u0440\\u044b\\u0435\", \"\\u043a\\u0440\\u0435\\u0434\\u0438\\u0442\\u044b\", \"\\u043a\\u0440\\u043e\\u043c\\u0435\", \"\\u043a\\u0440\\u044b\\u0448\\u0443\\u0435\\u0442\", \"\\u043a\\u0443\\u043f\\u0438\\u0442\\u044c\", \"\\u043a\\u0443\\u0440\\u0441\\u0435\", \"\\u043b\\u0433\\u0431\\u0442\", \"\\u043b\\u0435\\u0442\", \"\\u043b\\u0435\\u0442\", \"\\u043b\\u0435\\u0442\", \"\\u043b\\u0435\\u0442\", \"\\u043b\\u0435\\u0445\\u043a\\u043e\", \"\\u043b\\u0438\\u0446\\u043e\", \"\\u043b\\u043e\\u0445\\u043e\\u0432\", \"\\u043b\\u044e\\u0434\\u0435\\u0439\", \"\\u043b\\u044e\\u0434\\u0435\\u0439\", \"\\u043b\\u044e\\u0434\\u0435\\u0439\", \"\\u043b\\u044e\\u0434\\u0435\\u0439\", \"\\u043b\\u044e\\u0434\\u0438\", \"\\u043b\\u044e\\u0434\\u0438\", \"\\u043b\\u044e\\u0434\\u0438\", \"\\u043c\\u0430\\u0439\\u043d\\u0435\\u0440\\u043e\\u0432\", \"\\u043c\\u0438\\u043b\\u043b\\u0438\\u043e\\u043d\\u043e\\u0432\", \"\\u043c\\u043e\\u0433\\u0443\\u0442\", \"\\u043c\\u043e\\u0433\\u0443\\u0442\", \"\\u043c\\u043e\\u0433\\u0443\\u0442\", \"\\u043c\\u043e\\u043b\\u043e\\u0434\\u0446\\u044b\", \"\\u043c\\u043e\\u0440\\u0435\", \"\\u043c\\u043e\\u0448\\u0435\\u043d\\u043d\\u0438\\u0447\\u0435\\u0441\\u0442\\u0432\\u043e\", \"\\u043c\\u044f\\u0441\\u043e\", \"\\u043c\\u044f\\u0441\\u043e\", \"\\u043d\\u0430\\u0432\\u043e\\u0434\\u043a\\u0443\", \"\\u043d\\u0430\\u043a\\u0430\\u0437\\u0430\\u043d\\u0438\\u044f\", \"\\u043d\\u0430\\u043c\", \"\\u043d\\u0430\\u043c\", \"\\u043d\\u0430\\u0440\\u043e\\u0434\", \"\\u043d\\u0430\\u0440\\u043e\\u0434\", \"\\u043d\\u0430\\u0440\\u043e\\u0434\", \"\\u043d\\u0435\\u0441\\u043a\\u043e\\u043b\\u044c\\u043a\\u043e\", \"\\u043d\\u0435\\u0441\\u043a\\u043e\\u043b\\u044c\\u043a\\u043e\", \"\\u043d\\u0435\\u0441\\u043a\\u043e\\u043b\\u044c\\u043a\\u043e\", \"\\u043d\\u0438\\u043a\\u0442\\u043e\", \"\\u043d\\u0438\\u043a\\u0442\\u043e\", \"\\u043d\\u0438\\u043a\\u0442\\u043e\", \"\\u043d\\u043e\\u043c\\u0435\\u0440\\u0430\", \"\\u043d\\u0443\\u0436\\u043d\\u043e\", \"\\u043d\\u0443\\u0436\\u043d\\u043e\", \"\\u043d\\u0443\\u0436\\u043d\\u043e\", \"\\u043e\\u0431\\u0440\\u0430\\u0442\\u043d\\u043e\", \"\\u043e\\u0431\\u044b\\u043a\\u043d\\u043e\\u0432\\u0435\\u043d\\u043d\\u0430\\u044f\", \"\\u043e\\u0431\\u044b\\u0447\\u043d\\u043e\", \"\\u043e\\u043b\\u0438\\u0431\", \"\\u043e\\u0440\\u0433\\u0430\\u043d\\u044b\", \"\\u043e\\u0441\\u043e\\u0431\\u0435\\u043d\\u043d\\u043e\", \"\\u043e\\u0442\\u043c\\u0430\\u0436\\u0435\\u0442\\u0441\\u044f\", \"\\u043e\\u0447\\u0435\\u043d\\u044c\", \"\\u043e\\u0447\\u0435\\u043d\\u044c\", \"\\u043f\\u0435\\u0434\\u0430\\u043b\\u044c\\u043d\\u044b\\u0445\", \"\\u043f\\u0435\\u043d\\u0441\\u0438\\u044e\", \"\\u043f\\u0435\\u0442\\u0430\\u0440\\u0434\\u044b\", \"\\u043f\\u043e\\u043a\\u0430\", \"\\u043f\\u043e\\u043a\\u0430\", \"\\u043f\\u043e\\u043a\\u0430\", \"\\u043f\\u043e\\u043a\\u0443\\u043f\\u0430\\u044e\", \"\\u043f\\u043e\\u043b\\u0443\\u0447\\u0430\\u0435\\u0442\\u0441\\u044f\", \"\\u043f\\u043e\\u043b\\u0443\\u0447\\u0430\\u0435\\u0442\\u0441\\u044f\", \"\\u043f\\u043e\\u043b\\u0443\\u0447\\u0430\\u0435\\u0442\\u0441\\u044f\", \"\\u043f\\u043e\\u043b\\u0443\\u0447\\u0438\\u0442\", \"\\u043f\\u043e\\u043c\\u043e\\u0447\\u044c\", \"\\u043f\\u043e\\u043c\\u043e\\u0447\\u044c\", \"\\u043f\\u043e\\u0441\\u0442\\u043e\\u044f\\u043d\\u043d\\u043e\", \"\\u043f\\u043e\\u0441\\u0442\\u043e\\u044f\\u043d\\u043d\\u043e\", \"\\u043f\\u043e\\u0447\\u0435\\u043c\\u0443\", \"\\u043f\\u043e\\u0447\\u0435\\u043c\\u0443\", \"\\u043f\\u043e\\u0447\\u0435\\u043c\\u0443\", \"\\u043f\\u0440\\u0430\\u0432\\u0438\\u043b\\u044c\\u043d\\u043e\", \"\\u043f\\u0440\\u0430\\u0432\\u0438\\u043b\\u044c\\u043d\\u043e\", \"\\u043f\\u0440\\u0430\\u0432\\u0438\\u043b\\u044c\\u043d\\u043e\", \"\\u043f\\u0440\\u043e\\u0432\\u0435\\u0440\\u044f\\u0442\\u044c\", \"\\u043f\\u0440\\u043e\\u0434\\u0430\\u0432\\u0430\\u0442\\u044c\", \"\\u043f\\u0440\\u043e\\u0434\\u0430\\u0432\\u0430\\u0442\\u044c\", \"\\u043f\\u0440\\u043e\\u0434\\u0430\\u044e\\u0442\", \"\\u043f\\u0440\\u043e\\u0434\\u0430\\u044e\\u0442\", \"\\u043f\\u0440\\u043e\\u0434\\u0430\\u044e\\u0442\", \"\\u043f\\u0440\\u043e\\u0434\\u0430\\u044e\\u0442\", \"\\u043f\\u0440\\u043e\\u0441\\u0442\\u043e\", \"\\u043f\\u0440\\u043e\\u0441\\u0442\\u043e\", \"\\u043f\\u0440\\u043e\\u0441\\u0442\\u043e\", \"\\u043f\\u0440\\u043e\\u0441\\u0442\\u043e\", \"\\u043f\\u0440\\u043e\\u0442\\u0438\\u0432\", \"\\u043f\\u0440\\u043e\\u0442\\u0438\\u0432\", \"\\u043f\\u0440\\u043e\\u0446\\u0435\\u043d\\u0442\\u044b\", \"\\u043f\\u0443\\u0441\\u0442\\u044c\", \"\\u043f\\u0443\\u0441\\u0442\\u044c\", \"\\u043f\\u0443\\u0441\\u0442\\u044c\", \"\\u0440\\u0430\\u0431\\u043e\\u0442\\u0430\\u0435\\u0442\", \"\\u0440\\u0430\\u0431\\u043e\\u0442\\u0430\\u0435\\u0442\", \"\\u0440\\u0430\\u0431\\u043e\\u0442\\u0430\\u0435\\u0442\", \"\\u0440\\u0430\\u0431\\u043e\\u0442\\u0430\\u0442\\u044c\", \"\\u0440\\u0430\\u0431\\u043e\\u0442\\u0430\\u0442\\u044c\", \"\\u0440\\u0430\\u0431\\u043e\\u0442\\u0430\\u044e\\u0442\", \"\\u0440\\u0430\\u0431\\u043e\\u0442\\u0430\\u044e\\u0442\", \"\\u0440\\u0430\\u0431\\u043e\\u0442\\u0430\\u044e\\u0442\", \"\\u0440\\u0430\\u0431\\u043e\\u0442\\u0430\\u044e\\u0442\", \"\\u0440\\u0430\\u0431\\u043e\\u0442\\u0443\", \"\\u0440\\u0430\\u0431\\u043e\\u0442\\u0443\", \"\\u0440\\u0430\\u0437\\u0434\\u0430\\u044e\\u0442\\u0441\\u044f\", \"\\u0440\\u0435\\u0446\\u0438\\u0434\\u0438\\u0432\\u0438\\u0441\\u0442\\u044b\", \"\\u0440\\u043e\\u0437\\u044b\\u0441\\u043a\", \"\\u0440\\u0443\\u0431\\u0438\\u0442\\u044c\", \"\\u0440\\u0443\\u0441\\u0441\\u043a\\u0438\\u0445\", \"\\u0441\\u0430\\u043c\\u0430\\u044f\", \"\\u0441\\u0430\\u043c\\u0438\", \"\\u0441\\u0430\\u043c\\u0438\", \"\\u0441\\u0430\\u043c\\u0438\", \"\\u0441\\u0430\\u043c\\u0438\", \"\\u0441\\u0432\\u043e\\u0438\", \"\\u0441\\u0432\\u043e\\u0438\", \"\\u0441\\u0432\\u043e\\u0438\", \"\\u0441\\u0432\\u043e\\u0438\\u0445\", \"\\u0441\\u0432\\u043e\\u0438\\u0445\", \"\\u0441\\u0432\\u043e\\u0438\\u0445\", \"\\u0441\\u043a\\u0430\\u0437\\u0430\\u0442\\u044c\", \"\\u0441\\u043a\\u0430\\u0437\\u0430\\u0442\\u044c\", \"\\u0441\\u043a\\u0430\\u0437\\u0430\\u0442\\u044c\", \"\\u0441\\u043a\\u043e\\u043b\\u044c\\u043a\\u043e\", \"\\u0441\\u043a\\u043e\\u043b\\u044c\\u043a\\u043e\", \"\\u0441\\u043b\\u0435\\u0434\", \"\\u0441\\u043b\\u0435\\u0434\", \"\\u0441\\u043c\\u043e\\u0442\\u0440\\u0435\\u0442\\u044c\", \"\\u0441\\u043c\\u0441\\u043a\\u0438\", \"\\u0441\\u043d\\u0435\\u0441\\u0443\\u0442\", \"\\u0441\\u043d\\u0438\\u043c\\u0430\\u044e\\u0442\", \"\\u0441\\u043e\\u043e\\u0431\\u0449\\u0438\\u0442\\u044c\", \"\\u0441\\u043e\\u0442\\u0440\\u0443\\u0434\\u043d\\u0438\\u043a\\u0438\", \"\\u0441\\u043f\\u043e\\u043a\\u043e\\u0439\\u043d\\u043e\", \"\\u0441\\u043f\\u043e\\u043a\\u043e\\u0439\\u043d\\u043e\", \"\\u0441\\u043f\\u043e\\u043a\\u043e\\u0439\\u043d\\u043e\", \"\\u0441\\u0440\\u0430\\u0437\\u0443\", \"\\u0441\\u0442\\u0430\\u0432\\u043a\\u0430\", \"\\u0441\\u0442\\u0430\\u0442\\u044c\\u0438\", \"\\u0441\\u0442\\u0430\\u0442\\u044c\\u0438\", \"\\u0441\\u0442\\u043e\\u0440\\u043e\\u043d\\u0443\", \"\\u0441\\u0443\\u043c\", \"\\u0441\\u0443\\u043c\", \"\\u0441\\u0443\\u043c\\u043c\\u0430\", \"\\u0441\\u0443\\u043c\\u043c\\u0443\", \"\\u0441\\u0443\\u043c\\u043c\\u0443\", \"\\u0441\\u0443\\u043c\\u043c\\u0443\", \"\\u0441\\u0443\\u0449\\u0435\\u0441\\u0442\\u0432\\u0443\\u044e\\u0449\\u0438\\u043c\", \"\\u0442\\u0430\\u043a\\u0430\\u044f\", \"\\u0442\\u0430\\u043a\\u0438\\u0435\", \"\\u0442\\u0430\\u043a\\u0438\\u0435\", \"\\u0442\\u0430\\u043a\\u0438\\u043c\", \"\\u0442\\u0430\\u043a\\u0438\\u043c\", \"\\u0442\\u0430\\u043a\\u0438\\u043c\\u0438\", \"\\u0442\\u0430\\u043a\\u0438\\u043c\\u0438\", \"\\u0442\\u0430\\u043a\\u0438\\u0445\", \"\\u0442\\u0430\\u043a\\u0438\\u0445\", \"\\u0442\\u0430\\u043a\\u0438\\u0445\", \"\\u0442\\u0430\\u043a\\u0438\\u0445\", \"\\u0442\\u0435\\u0431\\u0435\", \"\\u0442\\u0435\\u043b\\u0435\\u0444\\u043e\\u043d\\u0430\", \"\\u0442\\u0435\\u043c\\u0435\", \"\\u0442\\u0438\\u043f\\u0430\", \"\\u0442\\u0438\\u043f\\u0430\", \"\\u0442\\u0438\\u043f\\u0430\", \"\\u0442\\u043e\\u043b\\u043a\\u0443\", \"\\u0442\\u043e\\u043b\\u043a\\u0443\", \"\\u0442\\u043e\\u043b\\u043a\\u0443\", \"\\u0442\\u0443\\u043f\\u043e\", \"\\u0442\\u044b\\u0441\", \"\\u0443\\u0439\\u0434\\u0443\\u0442\", \"\\u0445\\u043b\\u043e\\u043f\\u0430\\u0442\\u044c\", \"\\u0445\\u043b\\u043e\\u043f\\u043d\\u0443\\u043b\\u0438\", \"\\u0445\\u043e\\u0442\\u0435\\u043b\", \"\\u0446\\u0435\\u043d\\u044b\", \"\\u0446\\u0435\\u043d\\u044b\", \"\\u0446\\u0435\\u043d\\u044b\", \"\\u0447\\u0435\\u043b\\u043e\\u0432\\u0435\\u043a\\u0430\", \"\\u0447\\u0435\\u043b\\u043e\\u0432\\u0435\\u043a\\u0430\", \"\\u0447\\u0435\\u043b\\u043e\\u0432\\u0435\\u043a\\u0430\", \"\\u0447\\u0435\\u0440\\u0442\\u0430\", \"\\u0447\\u0443\\u0442\\u043a\\u0438\\u0445\", \"\\u0448\\u043e\\u043a\\u043e\\u043b\\u0430\\u0434\\u043a\\u0430\\u043c\\u0438\", \"\\u0448\\u0443\\u0441\\u0442\\u0440\\u044b\\u0439\", \"\\u044d\\u043a\\u0430\\u043d\", \"\\u044d\\u0442\\u0438\\u0445\", \"\\u044d\\u0442\\u0438\\u0445\", \"\\u044d\\u0442\\u043e\", \"\\u044d\\u0442\\u043e\", \"\\u044d\\u0442\\u043e\", \"\\u044d\\u0442\\u043e\", \"\\u044f\\u043a\\u043e\\u0431\\u044b\"]}, \"R\": 30, \"lambda.step\": 0.01, \"plot.opts\": {\"xlab\": \"PC1\", \"ylab\": \"PC2\"}, \"topic.order\": [2, 4, 3, 1]};\n",
              "\n",
              "function LDAvis_load_lib(url, callback){\n",
              "  var s = document.createElement('script');\n",
              "  s.src = url;\n",
              "  s.async = true;\n",
              "  s.onreadystatechange = s.onload = callback;\n",
              "  s.onerror = function(){console.warn(\"failed to load library \" + url);};\n",
              "  document.getElementsByTagName(\"head\")[0].appendChild(s);\n",
              "}\n",
              "\n",
              "if(typeof(LDAvis) !== \"undefined\"){\n",
              "   // already loaded: just create the visualization\n",
              "   !function(LDAvis){\n",
              "       new LDAvis(\"#\" + \"ldavis_el711403502959938086907142270\", ldavis_el711403502959938086907142270_data);\n",
              "   }(LDAvis);\n",
              "}else if(typeof define === \"function\" && define.amd){\n",
              "   // require.js is available: use it to load d3/LDAvis\n",
              "   require.config({paths: {d3: \"https://d3js.org/d3.v5\"}});\n",
              "   require([\"d3\"], function(d3){\n",
              "      window.d3 = d3;\n",
              "      LDAvis_load_lib(\"https://cdn.jsdelivr.net/gh/bmabey/pyLDAvis@3.3.1/pyLDAvis/js/ldavis.v3.0.0.js\", function(){\n",
              "        new LDAvis(\"#\" + \"ldavis_el711403502959938086907142270\", ldavis_el711403502959938086907142270_data);\n",
              "      });\n",
              "    });\n",
              "}else{\n",
              "    // require.js not available: dynamically load d3 & LDAvis\n",
              "    LDAvis_load_lib(\"https://d3js.org/d3.v5.js\", function(){\n",
              "         LDAvis_load_lib(\"https://cdn.jsdelivr.net/gh/bmabey/pyLDAvis@3.3.1/pyLDAvis/js/ldavis.v3.0.0.js\", function(){\n",
              "                 new LDAvis(\"#\" + \"ldavis_el711403502959938086907142270\", ldavis_el711403502959938086907142270_data);\n",
              "            })\n",
              "         });\n",
              "}\n",
              "</script>"
            ]
          },
          "metadata": {},
          "execution_count": 113
        }
      ]
    }
  ]
}