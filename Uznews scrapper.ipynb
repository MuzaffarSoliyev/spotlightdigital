{
 "cells": [
  {
   "cell_type": "code",
   "execution_count": null,
   "id": "5db419e0",
   "metadata": {},
   "outputs": [],
   "source": [
    "!pip install requests_html\n",
    "!pip install selenium\n",
    "!pip install webdriver-manager\n",
    "!pip install --upgrade ChromeDriver"
   ]
  },
  {
   "cell_type": "code",
   "execution_count": 9,
   "id": "309d6b7c",
   "metadata": {},
   "outputs": [],
   "source": [
    "import pandas as pd\n",
    "from selenium import webdriver\n",
    "from webdriver_manager.chrome import ChromeDriverManager\n",
    "\n",
    "import time\n",
    "from tqdm import tqdm\n",
    "\n",
    "from lxml import html\n",
    "from requests_html import AsyncHTMLSession "
   ]
  },
  {
   "cell_type": "code",
   "execution_count": 2,
   "id": "3ca57b31",
   "metadata": {},
   "outputs": [],
   "source": [
    "#Дополнительные\n",
    "from selenium.webdriver.common.by import By\n",
    "from selenium.webdriver.support.ui import WebDriverWait\n",
    "from selenium.webdriver.support import expected_conditions as EC"
   ]
  },
  {
   "cell_type": "markdown",
   "id": "30eac771",
   "metadata": {},
   "source": [
    "### Соберем датасет из шапок новостей ###"
   ]
  },
  {
   "cell_type": "code",
   "execution_count": 5,
   "id": "b61b4b6d",
   "metadata": {},
   "outputs": [
    {
     "name": "stderr",
     "output_type": "stream",
     "text": [
      "C:\\Users\\Lily\\Anaconda3\\lib\\site-packages\\ipykernel_launcher.py:3: DeprecationWarning: executable_path has been deprecated, please pass in a Service object\n",
      "  This is separate from the ipykernel package so we can avoid doing imports until\n",
      "C:\\Users\\Lily\\Anaconda3\\lib\\site-packages\\ipykernel_launcher.py:33: DeprecationWarning: find_elements_by_class_name is deprecated. Please use find_elements(by=By.CLASS_NAME, value=name) instead\n",
      "C:\\Users\\Lily\\Anaconda3\\lib\\site-packages\\ipykernel_launcher.py:35: DeprecationWarning: find_elements_by_xpath is deprecated. Please use find_elements(by=By.XPATH, value=xpath) instead\n",
      "C:\\Users\\Lily\\Anaconda3\\lib\\site-packages\\ipykernel_launcher.py:37: DeprecationWarning: find_elements_by_xpath is deprecated. Please use find_elements(by=By.XPATH, value=xpath) instead\n"
     ]
    }
   ],
   "source": [
    "url = 'https://uznews.uz/categories/proissestviya'\n",
    "path_CDM = './chromedriver'\n",
    "browser = webdriver.Chrome(path_CDM)# add path\n",
    "browser.get(url) # Открываем страницу\n",
    "\n",
    "time.sleep(3)\n",
    "\n",
    "\n",
    "SCROLL_PAUSE_TIME = 2\n",
    "\n",
    "# Get scroll height\n",
    "last_height = browser.execute_script(\"return document.body.scrollHeight\")\n",
    "num_pages = 0\n",
    "# Начали прокрутку\n",
    "while True:\n",
    "    num_pages+=1\n",
    "    # Scroll down to bottom\n",
    "    browser.execute_script(\"window.scrollTo(0, document.body.scrollHeight);\")\n",
    "\n",
    "    # Wait to load page\n",
    "    time.sleep(SCROLL_PAUSE_TIME)\n",
    "\n",
    "    # Calculate new scroll height and compare with last scroll height\n",
    "    new_height = browser.execute_script(\"return document.body.scrollHeight\")\n",
    "    if new_height == last_height:\n",
    "        break\n",
    "    last_height = new_height\n",
    "    if num_pages >= 1: \n",
    "        break\n",
    "# Конец прокрутки\n",
    "        \n",
    "# Вытащим нужное с каждой новости       \n",
    "titles = browser.find_elements_by_class_name('title')\n",
    "titles = [i.text for i in titles]\n",
    "num_comments = browser.find_elements_by_xpath(\".//div[@class='flex gap-4']/span[@class='inline-flex items-center text-black opacity-70 font-medium text_13 gap-2'][2]/span[1]\")\n",
    "num_comments = [i.text for i in num_comments]\n",
    "links = browser.find_elements_by_xpath(\".//h3[@class='text-xl sm:text-base font-bold text-black height_2_ellips title']/..\")\n",
    "links = [i.get_attribute('href') for i in links]\n",
    "\n",
    "browser.quit()"
   ]
  },
  {
   "cell_type": "code",
   "execution_count": 6,
   "id": "ea5b0ec7",
   "metadata": {},
   "outputs": [
    {
     "name": "stdout",
     "output_type": "stream",
     "text": [
      "<class 'pandas.core.frame.DataFrame'>\n",
      "RangeIndex: 30 entries, 0 to 29\n",
      "Data columns (total 5 columns):\n",
      " #   Column        Non-Null Count  Dtype \n",
      "---  ------        --------------  ----- \n",
      " 0   title         30 non-null     object\n",
      " 1   num_comments  30 non-null     object\n",
      " 2   link          30 non-null     object\n",
      " 3   text          0 non-null      object\n",
      " 4   comments      0 non-null      object\n",
      "dtypes: object(5)\n",
      "memory usage: 1.3+ KB\n"
     ]
    }
   ],
   "source": [
    "# Соберем датасет\n",
    "\n",
    "df = pd.DataFrame(columns=['title','num_comments','link','text','comments'])\n",
    "df.title = titles\n",
    "df.num_comments = num_comments\n",
    "df.link = links\n",
    "df.head()\n",
    "df.info()"
   ]
  },
  {
   "cell_type": "markdown",
   "id": "d2aba3fe",
   "metadata": {},
   "source": [
    "### Перейдем по каждой ссылке и добавим текст самой новости и массив комментариев ###"
   ]
  },
  {
   "cell_type": "code",
   "execution_count": 7,
   "id": "01a3c970",
   "metadata": {},
   "outputs": [],
   "source": [
    "def get_news_text(tree):       \n",
    "    result = []\n",
    "    for body in tree.findall(\".//div[@class='ce-paragraph cdx-block']\"): \n",
    "        # iterate recursively over all sub-elemetns of `body`\n",
    "        for node in body.iter('*'):\n",
    "            # append any text if it exists\n",
    "            if node.text:\n",
    "                result.append(node.text.strip())\n",
    "            # NEW! add `node.tail` if present:\n",
    "            if node.tail:\n",
    "                result.append(node.tail.strip())\n",
    "    string = ' '.join(result)\n",
    "    string = string.replace('  ', ' ')\n",
    "    return string\n",
    "\n",
    "  \n",
    "def get_news_comments(tree):\n",
    "    result = tree.xpath(\".//p[@class='text-base font-normal overflow-hidden']/text()\")\n",
    "    return result"
   ]
  },
  {
   "cell_type": "code",
   "execution_count": 12,
   "id": "4c86a69b",
   "metadata": {},
   "outputs": [],
   "source": [
    "texts_arr = []\n",
    "comments_arr = []\n",
    "\n",
    "asession = AsyncHTMLSession()\n",
    "\n",
    "for link in df.link.to_numpy():     \n",
    "    r = await asession.get(link)\n",
    "    await r.html.arender()\n",
    "    resp=r.html.raw_html\n",
    "    tree = html.fromstring(resp)\n",
    "    \n",
    "    texts_arr.append(get_news_text(tree))\n",
    "    comments_arr.append(get_news_comments(tree))\n",
    "    \n",
    "df.text = texts_arr\n",
    "df.comments = comments_arr"
   ]
  },
  {
   "cell_type": "code",
   "execution_count": 14,
   "id": "bd31c141",
   "metadata": {},
   "outputs": [
    {
     "data": {
      "text/html": [
       "<div>\n",
       "<style scoped>\n",
       "    .dataframe tbody tr th:only-of-type {\n",
       "        vertical-align: middle;\n",
       "    }\n",
       "\n",
       "    .dataframe tbody tr th {\n",
       "        vertical-align: top;\n",
       "    }\n",
       "\n",
       "    .dataframe thead th {\n",
       "        text-align: right;\n",
       "    }\n",
       "</style>\n",
       "<table border=\"1\" class=\"dataframe\">\n",
       "  <thead>\n",
       "    <tr style=\"text-align: right;\">\n",
       "      <th></th>\n",
       "      <th>title</th>\n",
       "      <th>num_comments</th>\n",
       "      <th>link</th>\n",
       "      <th>text</th>\n",
       "      <th>comments</th>\n",
       "    </tr>\n",
       "  </thead>\n",
       "  <tbody>\n",
       "    <tr>\n",
       "      <th>25</th>\n",
       "      <td>В Фергане пропали без вести женщина и двое ее ...</td>\n",
       "      <td>0</td>\n",
       "      <td>https://uznews.uz/posts/53962</td>\n",
       "      <td>Сотрудники УЧС по Ферганской области сообщили ...</td>\n",
       "      <td>[]</td>\n",
       "    </tr>\n",
       "    <tr>\n",
       "      <th>26</th>\n",
       "      <td>В Харькове в автобус с эвакуируемыми узбекиста...</td>\n",
       "      <td>18</td>\n",
       "      <td>https://uznews.uz/posts/53850</td>\n",
       "      <td>В Харькове в автобус, на котором вывозили граж...</td>\n",
       "      <td>[Спасибо gосольству нашей страны, не паникуй в...</td>\n",
       "    </tr>\n",
       "    <tr>\n",
       "      <th>27</th>\n",
       "      <td>В Ташкенте Spark въехал в подземный переход ме...</td>\n",
       "      <td>8</td>\n",
       "      <td>https://uznews.uz/posts/53827</td>\n",
       "      <td>Инцидент произошел 26 февраля, примерно в 23:...</td>\n",
       "      <td>[Коробка автомат наверное, перепутал педали. А...</td>\n",
       "    </tr>\n",
       "    <tr>\n",
       "      <th>28</th>\n",
       "      <td>Опубликована запись инцидента с камеры в метро...</td>\n",
       "      <td>4</td>\n",
       "      <td>https://uznews.uz/posts/53785</td>\n",
       "      <td>По данным Генпрокуратуры, личность мужчины уст...</td>\n",
       "      <td>[Слов нет.....скорбь!, Иеееее]</td>\n",
       "    </tr>\n",
       "    <tr>\n",
       "      <th>29</th>\n",
       "      <td>В Ташкенте мужчина бросился под поезд в метро</td>\n",
       "      <td>9</td>\n",
       "      <td>https://uznews.uz/posts/53782</td>\n",
       "      <td>Сегодня, 24 февраля, примерно в 21:00, одно н...</td>\n",
       "      <td>[Вряд ли из-за кредита,у нас ведь нет коллекто...</td>\n",
       "    </tr>\n",
       "  </tbody>\n",
       "</table>\n",
       "</div>"
      ],
      "text/plain": [
       "                                                title num_comments  \\\n",
       "25  В Фергане пропали без вести женщина и двое ее ...            0   \n",
       "26  В Харькове в автобус с эвакуируемыми узбекиста...           18   \n",
       "27  В Ташкенте Spark въехал в подземный переход ме...            8   \n",
       "28  Опубликована запись инцидента с камеры в метро...            4   \n",
       "29      В Ташкенте мужчина бросился под поезд в метро            9   \n",
       "\n",
       "                             link  \\\n",
       "25  https://uznews.uz/posts/53962   \n",
       "26  https://uznews.uz/posts/53850   \n",
       "27  https://uznews.uz/posts/53827   \n",
       "28  https://uznews.uz/posts/53785   \n",
       "29  https://uznews.uz/posts/53782   \n",
       "\n",
       "                                                 text  \\\n",
       "25  Сотрудники УЧС по Ферганской области сообщили ...   \n",
       "26  В Харькове в автобус, на котором вывозили граж...   \n",
       "27   Инцидент произошел 26 февраля, примерно в 23:...   \n",
       "28  По данным Генпрокуратуры, личность мужчины уст...   \n",
       "29   Сегодня, 24 февраля, примерно в 21:00, одно н...   \n",
       "\n",
       "                                             comments  \n",
       "25                                                 []  \n",
       "26  [Спасибо gосольству нашей страны, не паникуй в...  \n",
       "27  [Коробка автомат наверное, перепутал педали. А...  \n",
       "28                     [Слов нет.....скорбь!, Иеееее]  \n",
       "29  [Вряд ли из-за кредита,у нас ведь нет коллекто...  "
      ]
     },
     "execution_count": 14,
     "metadata": {},
     "output_type": "execute_result"
    }
   ],
   "source": [
    "df.tail()"
   ]
  },
  {
   "cell_type": "code",
   "execution_count": 15,
   "id": "52395d40",
   "metadata": {},
   "outputs": [],
   "source": [
    "df.to_csv('news.csv', index=False)"
   ]
  },
  {
   "cell_type": "code",
   "execution_count": null,
   "id": "cc23c323",
   "metadata": {},
   "outputs": [],
   "source": []
  }
 ],
 "metadata": {
  "kernelspec": {
   "display_name": "Python 3",
   "language": "python",
   "name": "python3"
  },
  "language_info": {
   "codemirror_mode": {
    "name": "ipython",
    "version": 3
   },
   "file_extension": ".py",
   "mimetype": "text/x-python",
   "name": "python",
   "nbconvert_exporter": "python",
   "pygments_lexer": "ipython3",
   "version": "3.7.4"
  }
 },
 "nbformat": 4,
 "nbformat_minor": 5
}
