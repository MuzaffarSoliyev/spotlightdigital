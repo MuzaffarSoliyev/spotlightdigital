{
 "cells": [
  {
   "cell_type": "code",
   "execution_count": 4,
   "metadata": {},
   "outputs": [
    {
     "name": "stdout",
     "output_type": "stream",
     "text": [
      "Requirement already satisfied: natasha in c:\\users\\lily\\anaconda3\\lib\\site-packages (1.4.0)\n",
      "Requirement already satisfied: razdel>=0.5.0 in c:\\users\\lily\\anaconda3\\lib\\site-packages (from natasha) (0.5.0)\n",
      "Requirement already satisfied: yargy>=0.14.0 in c:\\users\\lily\\anaconda3\\lib\\site-packages (from natasha) (0.15.0)\n",
      "Requirement already satisfied: pymorphy2 in c:\\users\\lily\\anaconda3\\lib\\site-packages (from natasha) (0.9.1)\n",
      "Requirement already satisfied: ipymarkup>=0.8.0 in c:\\users\\lily\\anaconda3\\lib\\site-packages (from natasha) (0.9.0)\n",
      "Requirement already satisfied: slovnet>=0.3.0 in c:\\users\\lily\\anaconda3\\lib\\site-packages (from natasha) (0.5.0)\n",
      "Requirement already satisfied: navec>=0.9.0 in c:\\users\\lily\\anaconda3\\lib\\site-packages (from natasha) (0.10.0)\n",
      "Requirement already satisfied: docopt>=0.6 in c:\\users\\lily\\anaconda3\\lib\\site-packages (from pymorphy2->natasha) (0.6.2)\n",
      "Requirement already satisfied: dawg-python>=0.7.1 in c:\\users\\lily\\anaconda3\\lib\\site-packages (from pymorphy2->natasha) (0.7.2)\n",
      "Requirement already satisfied: pymorphy2-dicts-ru<3.0,>=2.4 in c:\\users\\lily\\anaconda3\\lib\\site-packages (from pymorphy2->natasha) (2.4.417127.4579844)\n",
      "Requirement already satisfied: intervaltree>=3 in c:\\users\\lily\\anaconda3\\lib\\site-packages (from ipymarkup>=0.8.0->natasha) (3.1.0)\n",
      "Requirement already satisfied: numpy in c:\\users\\lily\\anaconda3\\lib\\site-packages (from slovnet>=0.3.0->natasha) (1.20.3)\n",
      "Requirement already satisfied: sortedcontainers<3.0,>=2.0 in c:\\users\\lily\\anaconda3\\lib\\site-packages (from intervaltree>=3->ipymarkup>=0.8.0->natasha) (2.4.0)\n"
     ]
    }
   ],
   "source": [
    "!pip install natasha"
   ]
  },
  {
   "cell_type": "code",
   "execution_count": 5,
   "metadata": {},
   "outputs": [],
   "source": [
    "from natasha import (\n",
    "    Segmenter,\n",
    "    \n",
    "    NewsEmbedding,\n",
    "    NewsMorphTagger,\n",
    "\n",
    "    Doc\n",
    ")"
   ]
  },
  {
   "cell_type": "code",
   "execution_count": 6,
   "metadata": {},
   "outputs": [],
   "source": [
    "class GenderIdentifier:\n",
    "    \n",
    "    def __init__(self):\n",
    "        self.segmenter = Segmenter()\n",
    "        self.emb = NewsEmbedding()\n",
    "        self.morph_tagger = NewsMorphTagger(self.emb)\n",
    "\n",
    "\n",
    "    def get_gender_from_text(self, news_title):\n",
    "        doc = Doc(news_title)\n",
    "        doc.segment(self.segmenter)\n",
    "        doc.tag_morph(self.morph_tagger)\n",
    "        is_female = self.is_female(doc)\n",
    "        return is_female\n",
    "\n",
    "\n",
    "    def is_female(self, doc):\n",
    "        fem_count = 0\n",
    "        masc_count = 0\n",
    "        for token in doc.tokens:\n",
    "            if token.pos == 'NOUN' and 'Anim' == token.feats['Animacy']:                \n",
    "                if 'Fem' == token.feats['Gender']:\n",
    "                    fem_count+=1\n",
    "                elif 'Masc' == token.feats['Gender']:\n",
    "                    masc_count+=1\n",
    "            if token.pos == 'VERB' and 'Gender' in token.feats:\n",
    "                if 'Fem' == token.feats['Gender']:\n",
    "                    fem_count+=1\n",
    "                elif 'Masc' == token.feats['Gender']:\n",
    "                    masc_count+=1\n",
    "        return fem_count, masc_count"
   ]
  },
  {
   "cell_type": "code",
   "execution_count": 7,
   "metadata": {},
   "outputs": [],
   "source": [
    "gend_ident = GenderIdentifier()"
   ]
  },
  {
   "cell_type": "code",
   "execution_count": 8,
   "metadata": {},
   "outputs": [
    {
     "name": "stdout",
     "output_type": "stream",
     "text": [
      "females: 2, males: 0\n"
     ]
    }
   ],
   "source": [
    "text = 'Студентка СамГУ разбилась насмерть, спрыгнув с 9 этажа общежития'\n",
    "fem, mal = gend_ident.get_gender_from_text(text)\n",
    "print(f\"females: {fem}, males: {mal}\")"
   ]
  },
  {
   "cell_type": "code",
   "execution_count": 71,
   "metadata": {},
   "outputs": [
    {
     "data": {
      "text/plain": [
       "(0, 2)"
      ]
     },
     "execution_count": 71,
     "metadata": {},
     "output_type": "execute_result"
    }
   ],
   "source": [
    "text = 'Студент СамГУ разбился насмерть, спрыгнув с 9 этажа общежития'\n",
    "gend_ident.get_gender_from_text(text)"
   ]
  },
  {
   "cell_type": "code",
   "execution_count": 12,
   "metadata": {},
   "outputs": [
    {
     "name": "stdout",
     "output_type": "stream",
     "text": [
      "females: 0, males: 2\n"
     ]
    }
   ],
   "source": [
    "text = 'В центре Ташкента водитель Spark, проигнорировав сигнал светофора, спровоцировал смертельное ДТП'\n",
    "fem, mal = gend_ident.get_gender_from_text(text)\n",
    "print(f\"females: {fem}, males: {mal}\")"
   ]
  },
  {
   "cell_type": "code",
   "execution_count": 73,
   "metadata": {},
   "outputs": [
    {
     "data": {
      "text/plain": [
       "(1, 1)"
      ]
     },
     "execution_count": 73,
     "metadata": {},
     "output_type": "execute_result"
    }
   ],
   "source": [
    "text = 'В центре Ташкента водитель Spark, проигнорировав сигнал светофора, спровоцировала смертельное ДТП'\n",
    "gend_ident.get_gender_from_text(text)"
   ]
  },
  {
   "cell_type": "code",
   "execution_count": 74,
   "metadata": {},
   "outputs": [
    {
     "data": {
      "text/plain": [
       "(3, 0)"
      ]
     },
     "execution_count": 74,
     "metadata": {},
     "output_type": "execute_result"
    }
   ],
   "source": [
    "text = '17-летняя школьница, выступавшая на мероприятии в честь Навруза, погибла — видео'\n",
    "gend_ident.get_gender_from_text(text)"
   ]
  },
  {
   "cell_type": "code",
   "execution_count": 75,
   "metadata": {},
   "outputs": [
    {
     "data": {
      "text/plain": [
       "(1, 2)"
      ]
     },
     "execution_count": 75,
     "metadata": {},
     "output_type": "execute_result"
    }
   ],
   "source": [
    "text = '17-летняя школьница, выступавший на мероприятии в честь Навруза, погиб — видео'\n",
    "gend_ident.get_gender_from_text(text)"
   ]
  },
  {
   "cell_type": "code",
   "execution_count": 76,
   "metadata": {},
   "outputs": [
    {
     "data": {
      "text/plain": [
       "(0, 1)"
      ]
     },
     "execution_count": 76,
     "metadata": {},
     "output_type": "execute_result"
    }
   ],
   "source": [
    "text = 'В ГНК своих должностей лишились 13 начальников'\n",
    "gend_ident.get_gender_from_text(text)"
   ]
  },
  {
   "cell_type": "code",
   "execution_count": 13,
   "metadata": {},
   "outputs": [
    {
     "name": "stdout",
     "output_type": "stream",
     "text": [
      "females: 0, males: 0\n"
     ]
    }
   ],
   "source": [
    "text = 'Определены суммы закята, фитр-садака и фидья-садака на 2022 год'\n",
    "fem, mal = gend_ident.get_gender_from_text(text)\n",
    "print(f\"females: {fem}, males: {mal}\")"
   ]
  },
  {
   "cell_type": "code",
   "execution_count": 78,
   "metadata": {},
   "outputs": [
    {
     "data": {
      "text/plain": [
       "(1, 1)"
      ]
     },
     "execution_count": 78,
     "metadata": {},
     "output_type": "execute_result"
    }
   ],
   "source": [
    "text = 'В Ташкенте задержаны 14 женщин, предлагавших интим-услуги через Telegram'\n",
    "gend_ident.get_gender_from_text(text)"
   ]
  },
  {
   "cell_type": "code",
   "execution_count": 79,
   "metadata": {},
   "outputs": [
    {
     "data": {
      "text/plain": [
       "(0, 0)"
      ]
     },
     "execution_count": 79,
     "metadata": {},
     "output_type": "execute_result"
    }
   ],
   "source": [
    "text = 'Более 154 кг гашиша, замаскированных под картофель, попытались ввезти в Узбекистан — видео'\n",
    "gend_ident.get_gender_from_text(text)"
   ]
  },
  {
   "cell_type": "code",
   "execution_count": 80,
   "metadata": {},
   "outputs": [
    {
     "data": {
      "text/plain": [
       "(0, 1)"
      ]
     },
     "execution_count": 80,
     "metadata": {},
     "output_type": "execute_result"
    }
   ],
   "source": [
    "text = 'В Хорезме при получении взятки в размере $12 тыс. задержан замхокима района'\n",
    "gend_ident.get_gender_from_text(text)"
   ]
  },
  {
   "cell_type": "code",
   "execution_count": null,
   "metadata": {},
   "outputs": [
    {
     "name": "stdout",
     "output_type": "stream",
     "text": [
      "Requirement already satisfied: polyglot in c:\\users\\lily\\anaconda3\\lib\\site-packages (16.7.4)\n"
     ]
    }
   ],
   "source": [
    "!pip install polyglot\n",
    "!pip install pyicu\n",
    "!pip install pycld2\n",
    "!pip install morfessor"
   ]
  },
  {
   "cell_type": "code",
   "execution_count": null,
   "metadata": {},
   "outputs": [],
   "source": [
    "from polyglot.text import Text as T\n",
    "text = T(\"это очень плохо. А это намного лучше, даже хорошо!\")\n",
    "text.polarity"
   ]
  },
  {
   "cell_type": "code",
   "execution_count": null,
   "metadata": {},
   "outputs": [],
   "source": []
  }
 ],
 "metadata": {
  "interpreter": {
   "hash": "990518952cfb8000ab18cacbdd851a04470ae543ed4c253a6c2c38e18c8445f1"
  },
  "kernelspec": {
   "display_name": "Python 3",
   "language": "python",
   "name": "python3"
  },
  "language_info": {
   "codemirror_mode": {
    "name": "ipython",
    "version": 3
   },
   "file_extension": ".py",
   "mimetype": "text/x-python",
   "name": "python",
   "nbconvert_exporter": "python",
   "pygments_lexer": "ipython3",
   "version": "3.7.4"
  }
 },
 "nbformat": 4,
 "nbformat_minor": 2
}
